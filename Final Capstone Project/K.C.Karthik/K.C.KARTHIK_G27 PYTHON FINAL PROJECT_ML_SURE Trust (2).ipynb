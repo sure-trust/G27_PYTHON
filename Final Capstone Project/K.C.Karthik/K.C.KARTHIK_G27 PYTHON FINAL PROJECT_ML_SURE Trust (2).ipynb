{
 "cells": [
  {
   "cell_type": "markdown",
   "id": "27fefb49",
   "metadata": {},
   "source": [
    "#                                 FINAL PROJECT ON MACHINE LEARNING"
   ]
  },
  {
   "cell_type": "markdown",
   "id": "81cf1741",
   "metadata": {},
   "source": [
    "# Name   : KURUKOOTI CHANDRA KARTHIK "
   ]
  },
  {
   "cell_type": "markdown",
   "id": "9d0512e4",
   "metadata": {},
   "source": [
    "# (K.c.Karthik-G27 python)"
   ]
  },
  {
   "cell_type": "markdown",
   "id": "da245a98",
   "metadata": {},
   "source": [
    "# BATCH  : PYTHON WITH MACHINE LEARNING  "
   ]
  },
  {
   "cell_type": "markdown",
   "id": "c387630f",
   "metadata": {},
   "source": [
    "# SURE Trust "
   ]
  },
  {
   "cell_type": "raw",
   "id": "b3ae4814",
   "metadata": {},
   "source": []
  },
  {
   "cell_type": "markdown",
   "id": "fa6f422f",
   "metadata": {},
   "source": [
    "# PROBLEM STATEMENT"
   ]
  },
  {
   "cell_type": "markdown",
   "id": "8ca9a380",
   "metadata": {},
   "source": [
    " You have the 'bank-full.csv' dataset, and your task is to build a machine learning model to predict the 'y' column using these classification algorithms: Logistic Regression, Naive Bayes, SVC Classifier, Decision Tree Classifier, and Random Forest Classifier. Summarize the key steps:\n",
    "\n",
    "Data Handling: How do you load the dataset and designate 'y' as the target variable?\n",
    "\n",
    "Data Cleaning: Describe how you'd remove useless columns, eliminate those with unique values, and handle missing data.\n",
    "\n",
    "Data Visualization: What visualizations would you use for numerical and categorical data?\n",
    "\n",
    "Data Analysis: Explain univariate, bivariate analysis, and any insights related to the business.\n",
    "\n",
    "Data Preprocessing: Do you need label encoding, one-hot encoding, standardization, or normalization?\n",
    "\n",
    "Model Implementation: Briefly outline how you'd implement the mentioned classification algorithms.\n",
    "\n",
    "Model Validation: Mention the metrics used, especially the R2 score interpretation.\n",
    "\n",
    "Model Comparison: How would you compare R2 scores and execution speeds to choose the best model?\n",
    "\n",
    "\n",
    "Please ensure you submit your assignment by the 24th of this month and upload your code to GitHub. Share the GitHub repository link here as well. Additionally, make sure to hand over your work to Radha Mam. This will ensure you receive your certificates during the upcoming graduation ceremony. Thank you for your effort, and best of luck!"
   ]
  },
  {
   "cell_type": "markdown",
   "id": "c1f13808",
   "metadata": {},
   "source": [
    "# Data Handling:"
   ]
  },
  {
   "cell_type": "code",
   "execution_count": 1,
   "id": "f9a74083",
   "metadata": {},
   "outputs": [],
   "source": [
    "# Importing required libraries\n",
    "\n",
    "# Data Analysis libraries\n",
    "\n",
    "import pandas as pd\n",
    "import numpy as np\n",
    "\n",
    "# Data Visualization libraries\n",
    "\n",
    "from matplotlib import pyplot as plt\n",
    "import seaborn as sbn\n",
    "\n",
    "# Importing warnings\n",
    "\n",
    "import warnings\n",
    "warnings.filterwarnings('ignore', category=FutureWarning)"
   ]
  },
  {
   "cell_type": "markdown",
   "id": "a43bdba7",
   "metadata": {},
   "source": [
    "Loading the Data-Set"
   ]
  },
  {
   "cell_type": "code",
   "execution_count": 2,
   "id": "cf14ee86",
   "metadata": {},
   "outputs": [
    {
     "data": {
      "text/html": [
       "<div>\n",
       "<style scoped>\n",
       "    .dataframe tbody tr th:only-of-type {\n",
       "        vertical-align: middle;\n",
       "    }\n",
       "\n",
       "    .dataframe tbody tr th {\n",
       "        vertical-align: top;\n",
       "    }\n",
       "\n",
       "    .dataframe thead th {\n",
       "        text-align: right;\n",
       "    }\n",
       "</style>\n",
       "<table border=\"1\" class=\"dataframe\">\n",
       "  <thead>\n",
       "    <tr style=\"text-align: right;\">\n",
       "      <th></th>\n",
       "      <th>age;\"job\";\"marital\";\"education\";\"default\";\"balance\";\"housing\";\"loan\";\"contact\";\"day\";\"month\";\"duration\";\"campaign\";\"pdays\";\"previous\";\"poutcome\";\"y\"</th>\n",
       "    </tr>\n",
       "  </thead>\n",
       "  <tbody>\n",
       "    <tr>\n",
       "      <th>0</th>\n",
       "      <td>58;\"management\";\"married\";\"tertiary\";\"no\";2143...</td>\n",
       "    </tr>\n",
       "    <tr>\n",
       "      <th>1</th>\n",
       "      <td>44;\"technician\";\"single\";\"secondary\";\"no\";29;\"...</td>\n",
       "    </tr>\n",
       "    <tr>\n",
       "      <th>2</th>\n",
       "      <td>33;\"entrepreneur\";\"married\";\"secondary\";\"no\";2...</td>\n",
       "    </tr>\n",
       "    <tr>\n",
       "      <th>3</th>\n",
       "      <td>47;\"blue-collar\";\"married\";\"unknown\";\"no\";1506...</td>\n",
       "    </tr>\n",
       "    <tr>\n",
       "      <th>4</th>\n",
       "      <td>33;\"unknown\";\"single\";\"unknown\";\"no\";1;\"no\";\"n...</td>\n",
       "    </tr>\n",
       "    <tr>\n",
       "      <th>...</th>\n",
       "      <td>...</td>\n",
       "    </tr>\n",
       "    <tr>\n",
       "      <th>45206</th>\n",
       "      <td>51;\"technician\";\"married\";\"tertiary\";\"no\";825;...</td>\n",
       "    </tr>\n",
       "    <tr>\n",
       "      <th>45207</th>\n",
       "      <td>71;\"retired\";\"divorced\";\"primary\";\"no\";1729;\"n...</td>\n",
       "    </tr>\n",
       "    <tr>\n",
       "      <th>45208</th>\n",
       "      <td>72;\"retired\";\"married\";\"secondary\";\"no\";5715;\"...</td>\n",
       "    </tr>\n",
       "    <tr>\n",
       "      <th>45209</th>\n",
       "      <td>57;\"blue-collar\";\"married\";\"secondary\";\"no\";66...</td>\n",
       "    </tr>\n",
       "    <tr>\n",
       "      <th>45210</th>\n",
       "      <td>37;\"entrepreneur\";\"married\";\"secondary\";\"no\";2...</td>\n",
       "    </tr>\n",
       "  </tbody>\n",
       "</table>\n",
       "<p>45211 rows × 1 columns</p>\n",
       "</div>"
      ],
      "text/plain": [
       "      age;\"job\";\"marital\";\"education\";\"default\";\"balance\";\"housing\";\"loan\";\"contact\";\"day\";\"month\";\"duration\";\"campaign\";\"pdays\";\"previous\";\"poutcome\";\"y\"\n",
       "0      58;\"management\";\"married\";\"tertiary\";\"no\";2143...                                                                                                  \n",
       "1      44;\"technician\";\"single\";\"secondary\";\"no\";29;\"...                                                                                                  \n",
       "2      33;\"entrepreneur\";\"married\";\"secondary\";\"no\";2...                                                                                                  \n",
       "3      47;\"blue-collar\";\"married\";\"unknown\";\"no\";1506...                                                                                                  \n",
       "4      33;\"unknown\";\"single\";\"unknown\";\"no\";1;\"no\";\"n...                                                                                                  \n",
       "...                                                  ...                                                                                                  \n",
       "45206  51;\"technician\";\"married\";\"tertiary\";\"no\";825;...                                                                                                  \n",
       "45207  71;\"retired\";\"divorced\";\"primary\";\"no\";1729;\"n...                                                                                                  \n",
       "45208  72;\"retired\";\"married\";\"secondary\";\"no\";5715;\"...                                                                                                  \n",
       "45209  57;\"blue-collar\";\"married\";\"secondary\";\"no\";66...                                                                                                  \n",
       "45210  37;\"entrepreneur\";\"married\";\"secondary\";\"no\";2...                                                                                                  \n",
       "\n",
       "[45211 rows x 1 columns]"
      ]
     },
     "execution_count": 2,
     "metadata": {},
     "output_type": "execute_result"
    }
   ],
   "source": [
    "# loading the csv file by using pandas\n",
    "\n",
    "df=pd.read_csv(r\"C:\\Users\\kuruk\\Downloads\\bank-full (1).csv\")\n",
    "df"
   ]
  },
  {
   "cell_type": "code",
   "execution_count": 3,
   "id": "1a4aac66",
   "metadata": {},
   "outputs": [
    {
     "data": {
      "text/plain": [
       "(45211, 1)"
      ]
     },
     "execution_count": 3,
     "metadata": {},
     "output_type": "execute_result"
    }
   ],
   "source": [
    "df.shape"
   ]
  },
  {
   "cell_type": "markdown",
   "id": "e4cb85e9",
   "metadata": {},
   "source": [
    "   In this csv file all the attributes and thier related data are available in a single column but it is not a better way to  understand the given data clearly so i want to separate each attribute with thier corresponding data in separate columns."
   ]
  },
  {
   "cell_type": "code",
   "execution_count": 4,
   "id": "0c2375ef",
   "metadata": {},
   "outputs": [
    {
     "data": {
      "text/html": [
       "<div>\n",
       "<style scoped>\n",
       "    .dataframe tbody tr th:only-of-type {\n",
       "        vertical-align: middle;\n",
       "    }\n",
       "\n",
       "    .dataframe tbody tr th {\n",
       "        vertical-align: top;\n",
       "    }\n",
       "\n",
       "    .dataframe thead th {\n",
       "        text-align: right;\n",
       "    }\n",
       "</style>\n",
       "<table border=\"1\" class=\"dataframe\">\n",
       "  <thead>\n",
       "    <tr style=\"text-align: right;\">\n",
       "      <th></th>\n",
       "      <th>age</th>\n",
       "      <th>job</th>\n",
       "      <th>marital</th>\n",
       "      <th>education</th>\n",
       "      <th>default</th>\n",
       "      <th>balance</th>\n",
       "      <th>housing</th>\n",
       "      <th>loan</th>\n",
       "      <th>contact</th>\n",
       "      <th>day</th>\n",
       "      <th>month</th>\n",
       "      <th>duration</th>\n",
       "      <th>campaign</th>\n",
       "      <th>pdays</th>\n",
       "      <th>previous</th>\n",
       "      <th>poutcome</th>\n",
       "      <th>y</th>\n",
       "    </tr>\n",
       "  </thead>\n",
       "  <tbody>\n",
       "    <tr>\n",
       "      <th>0</th>\n",
       "      <td>58</td>\n",
       "      <td>management</td>\n",
       "      <td>married</td>\n",
       "      <td>tertiary</td>\n",
       "      <td>no</td>\n",
       "      <td>2143</td>\n",
       "      <td>yes</td>\n",
       "      <td>no</td>\n",
       "      <td>unknown</td>\n",
       "      <td>5</td>\n",
       "      <td>may</td>\n",
       "      <td>261</td>\n",
       "      <td>1</td>\n",
       "      <td>-1</td>\n",
       "      <td>0</td>\n",
       "      <td>unknown</td>\n",
       "      <td>no</td>\n",
       "    </tr>\n",
       "    <tr>\n",
       "      <th>1</th>\n",
       "      <td>44</td>\n",
       "      <td>technician</td>\n",
       "      <td>single</td>\n",
       "      <td>secondary</td>\n",
       "      <td>no</td>\n",
       "      <td>29</td>\n",
       "      <td>yes</td>\n",
       "      <td>no</td>\n",
       "      <td>unknown</td>\n",
       "      <td>5</td>\n",
       "      <td>may</td>\n",
       "      <td>151</td>\n",
       "      <td>1</td>\n",
       "      <td>-1</td>\n",
       "      <td>0</td>\n",
       "      <td>unknown</td>\n",
       "      <td>no</td>\n",
       "    </tr>\n",
       "    <tr>\n",
       "      <th>2</th>\n",
       "      <td>33</td>\n",
       "      <td>entrepreneur</td>\n",
       "      <td>married</td>\n",
       "      <td>secondary</td>\n",
       "      <td>no</td>\n",
       "      <td>2</td>\n",
       "      <td>yes</td>\n",
       "      <td>yes</td>\n",
       "      <td>unknown</td>\n",
       "      <td>5</td>\n",
       "      <td>may</td>\n",
       "      <td>76</td>\n",
       "      <td>1</td>\n",
       "      <td>-1</td>\n",
       "      <td>0</td>\n",
       "      <td>unknown</td>\n",
       "      <td>no</td>\n",
       "    </tr>\n",
       "    <tr>\n",
       "      <th>3</th>\n",
       "      <td>47</td>\n",
       "      <td>blue-collar</td>\n",
       "      <td>married</td>\n",
       "      <td>unknown</td>\n",
       "      <td>no</td>\n",
       "      <td>1506</td>\n",
       "      <td>yes</td>\n",
       "      <td>no</td>\n",
       "      <td>unknown</td>\n",
       "      <td>5</td>\n",
       "      <td>may</td>\n",
       "      <td>92</td>\n",
       "      <td>1</td>\n",
       "      <td>-1</td>\n",
       "      <td>0</td>\n",
       "      <td>unknown</td>\n",
       "      <td>no</td>\n",
       "    </tr>\n",
       "    <tr>\n",
       "      <th>4</th>\n",
       "      <td>33</td>\n",
       "      <td>unknown</td>\n",
       "      <td>single</td>\n",
       "      <td>unknown</td>\n",
       "      <td>no</td>\n",
       "      <td>1</td>\n",
       "      <td>no</td>\n",
       "      <td>no</td>\n",
       "      <td>unknown</td>\n",
       "      <td>5</td>\n",
       "      <td>may</td>\n",
       "      <td>198</td>\n",
       "      <td>1</td>\n",
       "      <td>-1</td>\n",
       "      <td>0</td>\n",
       "      <td>unknown</td>\n",
       "      <td>no</td>\n",
       "    </tr>\n",
       "    <tr>\n",
       "      <th>...</th>\n",
       "      <td>...</td>\n",
       "      <td>...</td>\n",
       "      <td>...</td>\n",
       "      <td>...</td>\n",
       "      <td>...</td>\n",
       "      <td>...</td>\n",
       "      <td>...</td>\n",
       "      <td>...</td>\n",
       "      <td>...</td>\n",
       "      <td>...</td>\n",
       "      <td>...</td>\n",
       "      <td>...</td>\n",
       "      <td>...</td>\n",
       "      <td>...</td>\n",
       "      <td>...</td>\n",
       "      <td>...</td>\n",
       "      <td>...</td>\n",
       "    </tr>\n",
       "    <tr>\n",
       "      <th>45206</th>\n",
       "      <td>51</td>\n",
       "      <td>technician</td>\n",
       "      <td>married</td>\n",
       "      <td>tertiary</td>\n",
       "      <td>no</td>\n",
       "      <td>825</td>\n",
       "      <td>no</td>\n",
       "      <td>no</td>\n",
       "      <td>cellular</td>\n",
       "      <td>17</td>\n",
       "      <td>nov</td>\n",
       "      <td>977</td>\n",
       "      <td>3</td>\n",
       "      <td>-1</td>\n",
       "      <td>0</td>\n",
       "      <td>unknown</td>\n",
       "      <td>yes</td>\n",
       "    </tr>\n",
       "    <tr>\n",
       "      <th>45207</th>\n",
       "      <td>71</td>\n",
       "      <td>retired</td>\n",
       "      <td>divorced</td>\n",
       "      <td>primary</td>\n",
       "      <td>no</td>\n",
       "      <td>1729</td>\n",
       "      <td>no</td>\n",
       "      <td>no</td>\n",
       "      <td>cellular</td>\n",
       "      <td>17</td>\n",
       "      <td>nov</td>\n",
       "      <td>456</td>\n",
       "      <td>2</td>\n",
       "      <td>-1</td>\n",
       "      <td>0</td>\n",
       "      <td>unknown</td>\n",
       "      <td>yes</td>\n",
       "    </tr>\n",
       "    <tr>\n",
       "      <th>45208</th>\n",
       "      <td>72</td>\n",
       "      <td>retired</td>\n",
       "      <td>married</td>\n",
       "      <td>secondary</td>\n",
       "      <td>no</td>\n",
       "      <td>5715</td>\n",
       "      <td>no</td>\n",
       "      <td>no</td>\n",
       "      <td>cellular</td>\n",
       "      <td>17</td>\n",
       "      <td>nov</td>\n",
       "      <td>1127</td>\n",
       "      <td>5</td>\n",
       "      <td>184</td>\n",
       "      <td>3</td>\n",
       "      <td>success</td>\n",
       "      <td>yes</td>\n",
       "    </tr>\n",
       "    <tr>\n",
       "      <th>45209</th>\n",
       "      <td>57</td>\n",
       "      <td>blue-collar</td>\n",
       "      <td>married</td>\n",
       "      <td>secondary</td>\n",
       "      <td>no</td>\n",
       "      <td>668</td>\n",
       "      <td>no</td>\n",
       "      <td>no</td>\n",
       "      <td>telephone</td>\n",
       "      <td>17</td>\n",
       "      <td>nov</td>\n",
       "      <td>508</td>\n",
       "      <td>4</td>\n",
       "      <td>-1</td>\n",
       "      <td>0</td>\n",
       "      <td>unknown</td>\n",
       "      <td>no</td>\n",
       "    </tr>\n",
       "    <tr>\n",
       "      <th>45210</th>\n",
       "      <td>37</td>\n",
       "      <td>entrepreneur</td>\n",
       "      <td>married</td>\n",
       "      <td>secondary</td>\n",
       "      <td>no</td>\n",
       "      <td>2971</td>\n",
       "      <td>no</td>\n",
       "      <td>no</td>\n",
       "      <td>cellular</td>\n",
       "      <td>17</td>\n",
       "      <td>nov</td>\n",
       "      <td>361</td>\n",
       "      <td>2</td>\n",
       "      <td>188</td>\n",
       "      <td>11</td>\n",
       "      <td>other</td>\n",
       "      <td>no</td>\n",
       "    </tr>\n",
       "  </tbody>\n",
       "</table>\n",
       "<p>45211 rows × 17 columns</p>\n",
       "</div>"
      ],
      "text/plain": [
       "       age           job   marital  education default  balance housing loan  \\\n",
       "0       58    management   married   tertiary      no     2143     yes   no   \n",
       "1       44    technician    single  secondary      no       29     yes   no   \n",
       "2       33  entrepreneur   married  secondary      no        2     yes  yes   \n",
       "3       47   blue-collar   married    unknown      no     1506     yes   no   \n",
       "4       33       unknown    single    unknown      no        1      no   no   \n",
       "...    ...           ...       ...        ...     ...      ...     ...  ...   \n",
       "45206   51    technician   married   tertiary      no      825      no   no   \n",
       "45207   71       retired  divorced    primary      no     1729      no   no   \n",
       "45208   72       retired   married  secondary      no     5715      no   no   \n",
       "45209   57   blue-collar   married  secondary      no      668      no   no   \n",
       "45210   37  entrepreneur   married  secondary      no     2971      no   no   \n",
       "\n",
       "         contact  day month  duration  campaign  pdays  previous poutcome    y  \n",
       "0        unknown    5   may       261         1     -1         0  unknown   no  \n",
       "1        unknown    5   may       151         1     -1         0  unknown   no  \n",
       "2        unknown    5   may        76         1     -1         0  unknown   no  \n",
       "3        unknown    5   may        92         1     -1         0  unknown   no  \n",
       "4        unknown    5   may       198         1     -1         0  unknown   no  \n",
       "...          ...  ...   ...       ...       ...    ...       ...      ...  ...  \n",
       "45206   cellular   17   nov       977         3     -1         0  unknown  yes  \n",
       "45207   cellular   17   nov       456         2     -1         0  unknown  yes  \n",
       "45208   cellular   17   nov      1127         5    184         3  success  yes  \n",
       "45209  telephone   17   nov       508         4     -1         0  unknown   no  \n",
       "45210   cellular   17   nov       361         2    188        11    other   no  \n",
       "\n",
       "[45211 rows x 17 columns]"
      ]
     },
     "execution_count": 4,
     "metadata": {},
     "output_type": "execute_result"
    }
   ],
   "source": [
    "path=(r\"C:\\Users\\kuruk\\Downloads\\bank-full (1).csv\")\n",
    "df=pd.read_csv(path,sep=';')\n",
    "df"
   ]
  },
  {
   "cell_type": "code",
   "execution_count": 5,
   "id": "a2ae1f48",
   "metadata": {},
   "outputs": [
    {
     "data": {
      "text/plain": [
       "(45211, 17)"
      ]
     },
     "execution_count": 5,
     "metadata": {},
     "output_type": "execute_result"
    }
   ],
   "source": [
    "df.shape"
   ]
  },
  {
   "cell_type": "markdown",
   "id": "a90d126c",
   "metadata": {},
   "source": [
    "Now the single column data is separated and forms 17 columns of individual attributes with thier corresponding data as shown in above."
   ]
  },
  {
   "cell_type": "code",
   "execution_count": 6,
   "id": "378dfa6c",
   "metadata": {},
   "outputs": [
    {
     "data": {
      "text/plain": [
       "Index(['age', 'job', 'marital', 'education', 'default', 'balance', 'housing',\n",
       "       'loan', 'contact', 'day', 'month', 'duration', 'campaign', 'pdays',\n",
       "       'previous', 'poutcome', 'y'],\n",
       "      dtype='object')"
      ]
     },
     "execution_count": 6,
     "metadata": {},
     "output_type": "execute_result"
    }
   ],
   "source": [
    "df.columns"
   ]
  },
  {
   "cell_type": "markdown",
   "id": "f5b30eb3",
   "metadata": {},
   "source": [
    "Understanding the data given in the data set"
   ]
  },
  {
   "cell_type": "raw",
   "id": "90e9f725",
   "metadata": {},
   "source": [
    "Here\n",
    "Input variables are :['age', 'job', 'marital', 'education', 'default', 'balance', 'housing',\n",
    "       'loan', 'contact', 'day', 'month', 'duration', 'campaign', 'pdays',\n",
    "       'previous', 'poutcome']\n",
    "Output variable is :['y']  only\n",
    "         By analysing all the past data input variables to predict the result of target variable 'y' and is target variable consist of either 'Yes'-means the person who ready to subscribe or 'No'- for not ready to take subcription from the bank.   \n",
    "    "
   ]
  },
  {
   "cell_type": "markdown",
   "id": "85a356cd",
   "metadata": {},
   "source": [
    "# Data Cleaning:"
   ]
  },
  {
   "cell_type": "code",
   "execution_count": 7,
   "id": "4127eb8c",
   "metadata": {},
   "outputs": [
    {
     "name": "stdout",
     "output_type": "stream",
     "text": [
      "<class 'pandas.core.frame.DataFrame'>\n",
      "RangeIndex: 45211 entries, 0 to 45210\n",
      "Data columns (total 17 columns):\n",
      " #   Column     Non-Null Count  Dtype \n",
      "---  ------     --------------  ----- \n",
      " 0   age        45211 non-null  int64 \n",
      " 1   job        45211 non-null  object\n",
      " 2   marital    45211 non-null  object\n",
      " 3   education  45211 non-null  object\n",
      " 4   default    45211 non-null  object\n",
      " 5   balance    45211 non-null  int64 \n",
      " 6   housing    45211 non-null  object\n",
      " 7   loan       45211 non-null  object\n",
      " 8   contact    45211 non-null  object\n",
      " 9   day        45211 non-null  int64 \n",
      " 10  month      45211 non-null  object\n",
      " 11  duration   45211 non-null  int64 \n",
      " 12  campaign   45211 non-null  int64 \n",
      " 13  pdays      45211 non-null  int64 \n",
      " 14  previous   45211 non-null  int64 \n",
      " 15  poutcome   45211 non-null  object\n",
      " 16  y          45211 non-null  object\n",
      "dtypes: int64(7), object(10)\n",
      "memory usage: 5.9+ MB\n"
     ]
    }
   ],
   "source": [
    "# Information about the datatypes and their nullvalue counts of each attribute in the given dataset.\n",
    "\n",
    "df.info()"
   ]
  },
  {
   "cell_type": "code",
   "execution_count": 8,
   "id": "f7af5e5f",
   "metadata": {},
   "outputs": [
    {
     "data": {
      "text/plain": [
       "age          0\n",
       "job          0\n",
       "marital      0\n",
       "education    0\n",
       "default      0\n",
       "balance      0\n",
       "housing      0\n",
       "loan         0\n",
       "contact      0\n",
       "day          0\n",
       "month        0\n",
       "duration     0\n",
       "campaign     0\n",
       "pdays        0\n",
       "previous     0\n",
       "poutcome     0\n",
       "y            0\n",
       "dtype: int64"
      ]
     },
     "execution_count": 8,
     "metadata": {},
     "output_type": "execute_result"
    }
   ],
   "source": [
    "# checking the missing values in the given dataset\n",
    "\n",
    "df.isna().sum()"
   ]
  },
  {
   "cell_type": "markdown",
   "id": "78afad92",
   "metadata": {},
   "source": [
    "observation :\n",
    "\n",
    "Thier is not any null values present in the given dataset"
   ]
  },
  {
   "cell_type": "code",
   "execution_count": 9,
   "id": "65523e1a",
   "metadata": {},
   "outputs": [
    {
     "data": {
      "text/html": [
       "<div>\n",
       "<style scoped>\n",
       "    .dataframe tbody tr th:only-of-type {\n",
       "        vertical-align: middle;\n",
       "    }\n",
       "\n",
       "    .dataframe tbody tr th {\n",
       "        vertical-align: top;\n",
       "    }\n",
       "\n",
       "    .dataframe thead th {\n",
       "        text-align: right;\n",
       "    }\n",
       "</style>\n",
       "<table border=\"1\" class=\"dataframe\">\n",
       "  <thead>\n",
       "    <tr style=\"text-align: right;\">\n",
       "      <th></th>\n",
       "      <th>age</th>\n",
       "      <th>balance</th>\n",
       "      <th>day</th>\n",
       "      <th>duration</th>\n",
       "      <th>campaign</th>\n",
       "      <th>pdays</th>\n",
       "      <th>previous</th>\n",
       "    </tr>\n",
       "  </thead>\n",
       "  <tbody>\n",
       "    <tr>\n",
       "      <th>count</th>\n",
       "      <td>45211.000000</td>\n",
       "      <td>45211.000000</td>\n",
       "      <td>45211.000000</td>\n",
       "      <td>45211.000000</td>\n",
       "      <td>45211.000000</td>\n",
       "      <td>45211.000000</td>\n",
       "      <td>45211.000000</td>\n",
       "    </tr>\n",
       "    <tr>\n",
       "      <th>mean</th>\n",
       "      <td>40.936210</td>\n",
       "      <td>1362.272058</td>\n",
       "      <td>15.806419</td>\n",
       "      <td>258.163080</td>\n",
       "      <td>2.763841</td>\n",
       "      <td>40.197828</td>\n",
       "      <td>0.580323</td>\n",
       "    </tr>\n",
       "    <tr>\n",
       "      <th>std</th>\n",
       "      <td>10.618762</td>\n",
       "      <td>3044.765829</td>\n",
       "      <td>8.322476</td>\n",
       "      <td>257.527812</td>\n",
       "      <td>3.098021</td>\n",
       "      <td>100.128746</td>\n",
       "      <td>2.303441</td>\n",
       "    </tr>\n",
       "    <tr>\n",
       "      <th>min</th>\n",
       "      <td>18.000000</td>\n",
       "      <td>-8019.000000</td>\n",
       "      <td>1.000000</td>\n",
       "      <td>0.000000</td>\n",
       "      <td>1.000000</td>\n",
       "      <td>-1.000000</td>\n",
       "      <td>0.000000</td>\n",
       "    </tr>\n",
       "    <tr>\n",
       "      <th>25%</th>\n",
       "      <td>33.000000</td>\n",
       "      <td>72.000000</td>\n",
       "      <td>8.000000</td>\n",
       "      <td>103.000000</td>\n",
       "      <td>1.000000</td>\n",
       "      <td>-1.000000</td>\n",
       "      <td>0.000000</td>\n",
       "    </tr>\n",
       "    <tr>\n",
       "      <th>50%</th>\n",
       "      <td>39.000000</td>\n",
       "      <td>448.000000</td>\n",
       "      <td>16.000000</td>\n",
       "      <td>180.000000</td>\n",
       "      <td>2.000000</td>\n",
       "      <td>-1.000000</td>\n",
       "      <td>0.000000</td>\n",
       "    </tr>\n",
       "    <tr>\n",
       "      <th>75%</th>\n",
       "      <td>48.000000</td>\n",
       "      <td>1428.000000</td>\n",
       "      <td>21.000000</td>\n",
       "      <td>319.000000</td>\n",
       "      <td>3.000000</td>\n",
       "      <td>-1.000000</td>\n",
       "      <td>0.000000</td>\n",
       "    </tr>\n",
       "    <tr>\n",
       "      <th>max</th>\n",
       "      <td>95.000000</td>\n",
       "      <td>102127.000000</td>\n",
       "      <td>31.000000</td>\n",
       "      <td>4918.000000</td>\n",
       "      <td>63.000000</td>\n",
       "      <td>871.000000</td>\n",
       "      <td>275.000000</td>\n",
       "    </tr>\n",
       "  </tbody>\n",
       "</table>\n",
       "</div>"
      ],
      "text/plain": [
       "                age        balance           day      duration      campaign  \\\n",
       "count  45211.000000   45211.000000  45211.000000  45211.000000  45211.000000   \n",
       "mean      40.936210    1362.272058     15.806419    258.163080      2.763841   \n",
       "std       10.618762    3044.765829      8.322476    257.527812      3.098021   \n",
       "min       18.000000   -8019.000000      1.000000      0.000000      1.000000   \n",
       "25%       33.000000      72.000000      8.000000    103.000000      1.000000   \n",
       "50%       39.000000     448.000000     16.000000    180.000000      2.000000   \n",
       "75%       48.000000    1428.000000     21.000000    319.000000      3.000000   \n",
       "max       95.000000  102127.000000     31.000000   4918.000000     63.000000   \n",
       "\n",
       "              pdays      previous  \n",
       "count  45211.000000  45211.000000  \n",
       "mean      40.197828      0.580323  \n",
       "std      100.128746      2.303441  \n",
       "min       -1.000000      0.000000  \n",
       "25%       -1.000000      0.000000  \n",
       "50%       -1.000000      0.000000  \n",
       "75%       -1.000000      0.000000  \n",
       "max      871.000000    275.000000  "
      ]
     },
     "execution_count": 9,
     "metadata": {},
     "output_type": "execute_result"
    }
   ],
   "source": [
    "# describing the dataset to summarize each attribute\n",
    "\n",
    "df.describe()"
   ]
  },
  {
   "cell_type": "markdown",
   "id": "70742211",
   "metadata": {},
   "source": [
    "# EDA(Exploratory Data Analysis)"
   ]
  },
  {
   "cell_type": "markdown",
   "id": "fa581d01",
   "metadata": {},
   "source": [
    "It is a process of describing the data by means of statistical and visualization techniques in order to bring important aspects of that data into focus for further analysis."
   ]
  },
  {
   "cell_type": "code",
   "execution_count": 10,
   "id": "cfae3c98",
   "metadata": {},
   "outputs": [
    {
     "name": "stdout",
     "output_type": "stream",
     "text": [
      "Column: age\n",
      "age\n",
      "32    2085\n",
      "31    1996\n",
      "33    1972\n",
      "34    1930\n",
      "35    1894\n",
      "      ... \n",
      "93       2\n",
      "90       2\n",
      "95       2\n",
      "88       2\n",
      "94       1\n",
      "Name: count, Length: 77, dtype: int64\n",
      "\n",
      "Column: job\n",
      "job\n",
      "blue-collar      9732\n",
      "management       9458\n",
      "technician       7597\n",
      "admin.           5171\n",
      "services         4154\n",
      "retired          2264\n",
      "self-employed    1579\n",
      "entrepreneur     1487\n",
      "unemployed       1303\n",
      "housemaid        1240\n",
      "student           938\n",
      "unknown           288\n",
      "Name: count, dtype: int64\n",
      "\n",
      "Column: marital\n",
      "marital\n",
      "married     27214\n",
      "single      12790\n",
      "divorced     5207\n",
      "Name: count, dtype: int64\n",
      "\n",
      "Column: education\n",
      "education\n",
      "secondary    23202\n",
      "tertiary     13301\n",
      "primary       6851\n",
      "unknown       1857\n",
      "Name: count, dtype: int64\n",
      "\n",
      "Column: default\n",
      "default\n",
      "no     44396\n",
      "yes      815\n",
      "Name: count, dtype: int64\n",
      "\n",
      "Column: balance\n",
      "balance\n",
      " 0        3514\n",
      " 1         195\n",
      " 2         156\n",
      " 4         139\n",
      " 3         134\n",
      "          ... \n",
      "-381         1\n",
      " 4617        1\n",
      " 20584       1\n",
      " 4358        1\n",
      " 16353       1\n",
      "Name: count, Length: 7168, dtype: int64\n",
      "\n",
      "Column: housing\n",
      "housing\n",
      "yes    25130\n",
      "no     20081\n",
      "Name: count, dtype: int64\n",
      "\n",
      "Column: loan\n",
      "loan\n",
      "no     37967\n",
      "yes     7244\n",
      "Name: count, dtype: int64\n",
      "\n",
      "Column: contact\n",
      "contact\n",
      "cellular     29285\n",
      "unknown      13020\n",
      "telephone     2906\n",
      "Name: count, dtype: int64\n",
      "\n",
      "Column: day\n",
      "day\n",
      "20    2752\n",
      "18    2308\n",
      "21    2026\n",
      "17    1939\n",
      "6     1932\n",
      "5     1910\n",
      "14    1848\n",
      "8     1842\n",
      "28    1830\n",
      "7     1817\n",
      "19    1757\n",
      "29    1745\n",
      "15    1703\n",
      "12    1603\n",
      "13    1585\n",
      "30    1566\n",
      "9     1561\n",
      "11    1479\n",
      "4     1445\n",
      "16    1415\n",
      "2     1293\n",
      "27    1121\n",
      "3     1079\n",
      "26    1035\n",
      "23     939\n",
      "22     905\n",
      "25     840\n",
      "31     643\n",
      "10     524\n",
      "24     447\n",
      "1      322\n",
      "Name: count, dtype: int64\n",
      "\n",
      "Column: month\n",
      "month\n",
      "may    13766\n",
      "jul     6895\n",
      "aug     6247\n",
      "jun     5341\n",
      "nov     3970\n",
      "apr     2932\n",
      "feb     2649\n",
      "jan     1403\n",
      "oct      738\n",
      "sep      579\n",
      "mar      477\n",
      "dec      214\n",
      "Name: count, dtype: int64\n",
      "\n",
      "Column: duration\n",
      "duration\n",
      "124     188\n",
      "90      184\n",
      "89      177\n",
      "104     175\n",
      "122     175\n",
      "       ... \n",
      "1833      1\n",
      "1545      1\n",
      "1352      1\n",
      "1342      1\n",
      "1556      1\n",
      "Name: count, Length: 1573, dtype: int64\n",
      "\n",
      "Column: campaign\n",
      "campaign\n",
      "1     17544\n",
      "2     12505\n",
      "3      5521\n",
      "4      3522\n",
      "5      1764\n",
      "6      1291\n",
      "7       735\n",
      "8       540\n",
      "9       327\n",
      "10      266\n",
      "11      201\n",
      "12      155\n",
      "13      133\n",
      "14       93\n",
      "15       84\n",
      "16       79\n",
      "17       69\n",
      "18       51\n",
      "19       44\n",
      "20       43\n",
      "21       35\n",
      "22       23\n",
      "25       22\n",
      "23       22\n",
      "24       20\n",
      "29       16\n",
      "28       16\n",
      "26       13\n",
      "31       12\n",
      "27       10\n",
      "32        9\n",
      "30        8\n",
      "33        6\n",
      "34        5\n",
      "36        4\n",
      "35        4\n",
      "43        3\n",
      "38        3\n",
      "37        2\n",
      "50        2\n",
      "41        2\n",
      "46        1\n",
      "58        1\n",
      "55        1\n",
      "63        1\n",
      "51        1\n",
      "39        1\n",
      "44        1\n",
      "Name: count, dtype: int64\n",
      "\n",
      "Column: pdays\n",
      "pdays\n",
      "-1      36954\n",
      " 182      167\n",
      " 92       147\n",
      " 91       126\n",
      " 183      126\n",
      "        ...  \n",
      " 449        1\n",
      " 452        1\n",
      " 648        1\n",
      " 595        1\n",
      " 530        1\n",
      "Name: count, Length: 559, dtype: int64\n",
      "\n",
      "Column: previous\n",
      "previous\n",
      "0      36954\n",
      "1       2772\n",
      "2       2106\n",
      "3       1142\n",
      "4        714\n",
      "5        459\n",
      "6        277\n",
      "7        205\n",
      "8        129\n",
      "9         92\n",
      "10        67\n",
      "11        65\n",
      "12        44\n",
      "13        38\n",
      "15        20\n",
      "14        19\n",
      "17        15\n",
      "16        13\n",
      "19        11\n",
      "20         8\n",
      "23         8\n",
      "18         6\n",
      "22         6\n",
      "24         5\n",
      "27         5\n",
      "21         4\n",
      "29         4\n",
      "25         4\n",
      "30         3\n",
      "38         2\n",
      "37         2\n",
      "26         2\n",
      "28         2\n",
      "51         1\n",
      "275        1\n",
      "58         1\n",
      "32         1\n",
      "40         1\n",
      "55         1\n",
      "35         1\n",
      "41         1\n",
      "Name: count, dtype: int64\n",
      "\n",
      "Column: poutcome\n",
      "poutcome\n",
      "unknown    36959\n",
      "failure     4901\n",
      "other       1840\n",
      "success     1511\n",
      "Name: count, dtype: int64\n",
      "\n",
      "Column: y\n",
      "y\n",
      "no     39922\n",
      "yes     5289\n",
      "Name: count, dtype: int64\n",
      "\n"
     ]
    }
   ],
   "source": [
    "# Cheaking how many  of numbers unknown terms in the given dataset for each attribute\n",
    "\n",
    "for column in df.columns:\n",
    "    print(f'Column: {column}')\n",
    "    print(df[column].value_counts())\n",
    "    print()"
   ]
  },
  {
   "cell_type": "markdown",
   "id": "f4769fee",
   "metadata": {},
   "source": [
    "By checking the data for all attributes only three attributes having unknown data, there are 'job','education' and 'contact' so now I replace the unknown terms with thier mode of an attribute for better analysis."
   ]
  },
  {
   "cell_type": "code",
   "execution_count": 11,
   "id": "fdcf9f29",
   "metadata": {},
   "outputs": [],
   "source": [
    " #Replace_method for \"unknown\" term in [\"job\", \"education\", \"contact\"] with thier mode terms.\n",
    "    \n",
    "df[\"job\"].replace([\"unknown\"],df[\"job\"].mode(), inplace=True)\n",
    "df[\"education\"].replace([\"unknown\"],df[\"education\"].mode(), inplace=True)\n",
    "df[\"contact\"].replace([\"unknown\"],df [\"contact\"].mode(), inplace=True)"
   ]
  },
  {
   "cell_type": "code",
   "execution_count": 12,
   "id": "9859c53d",
   "metadata": {},
   "outputs": [
    {
     "data": {
      "text/plain": [
       "job\n",
       "blue-collar      10020\n",
       "management        9458\n",
       "technician        7597\n",
       "admin.            5171\n",
       "services          4154\n",
       "retired           2264\n",
       "self-employed     1579\n",
       "entrepreneur      1487\n",
       "unemployed        1303\n",
       "housemaid         1240\n",
       "student            938\n",
       "Name: count, dtype: int64"
      ]
     },
     "execution_count": 12,
     "metadata": {},
     "output_type": "execute_result"
    }
   ],
   "source": [
    "df['job'].value_counts()"
   ]
  },
  {
   "cell_type": "code",
   "execution_count": 13,
   "id": "9bd8e465",
   "metadata": {},
   "outputs": [
    {
     "data": {
      "text/plain": [
       "education\n",
       "secondary    25059\n",
       "tertiary     13301\n",
       "primary       6851\n",
       "Name: count, dtype: int64"
      ]
     },
     "execution_count": 13,
     "metadata": {},
     "output_type": "execute_result"
    }
   ],
   "source": [
    "df[\"education\"].value_counts()"
   ]
  },
  {
   "cell_type": "code",
   "execution_count": 14,
   "id": "6e463139",
   "metadata": {},
   "outputs": [
    {
     "data": {
      "text/plain": [
       "contact\n",
       "cellular     42305\n",
       "telephone     2906\n",
       "Name: count, dtype: int64"
      ]
     },
     "execution_count": 14,
     "metadata": {},
     "output_type": "execute_result"
    }
   ],
   "source": [
    "df[\"contact\"].value_counts()"
   ]
  },
  {
   "cell_type": "markdown",
   "id": "c79f4454",
   "metadata": {},
   "source": [
    "Observation :\n",
    "\n",
    "Now I observed that the unknown terms in those attributes are replaced with their highly repeacted terms(mode), now this data give better predictions"
   ]
  },
  {
   "cell_type": "raw",
   "id": "96bd8ecc",
   "metadata": {},
   "source": []
  },
  {
   "cell_type": "markdown",
   "id": "a734418e",
   "metadata": {},
   "source": [
    "Splitting the data in numerical and categorical"
   ]
  },
  {
   "cell_type": "code",
   "execution_count": 15,
   "id": "fdf1b83e",
   "metadata": {},
   "outputs": [
    {
     "name": "stdout",
     "output_type": "stream",
     "text": [
      "There are 10 categorical variables\n"
     ]
    },
    {
     "data": {
      "text/plain": [
       "['job',\n",
       " 'marital',\n",
       " 'education',\n",
       " 'default',\n",
       " 'housing',\n",
       " 'loan',\n",
       " 'contact',\n",
       " 'month',\n",
       " 'poutcome',\n",
       " 'y']"
      ]
     },
     "execution_count": 15,
     "metadata": {},
     "output_type": "execute_result"
    }
   ],
   "source": [
    "# Finding categorical variables\n",
    "\n",
    "categorical_features=[feature for feature in df.columns if (df[feature].dtypes=='O')]\n",
    "print(f'There are {len(categorical_features)} categorical variables')\n",
    "categorical_features"
   ]
  },
  {
   "cell_type": "code",
   "execution_count": 16,
   "id": "5307b14f",
   "metadata": {},
   "outputs": [
    {
     "data": {
      "text/html": [
       "<div>\n",
       "<style scoped>\n",
       "    .dataframe tbody tr th:only-of-type {\n",
       "        vertical-align: middle;\n",
       "    }\n",
       "\n",
       "    .dataframe tbody tr th {\n",
       "        vertical-align: top;\n",
       "    }\n",
       "\n",
       "    .dataframe thead th {\n",
       "        text-align: right;\n",
       "    }\n",
       "</style>\n",
       "<table border=\"1\" class=\"dataframe\">\n",
       "  <thead>\n",
       "    <tr style=\"text-align: right;\">\n",
       "      <th></th>\n",
       "      <th>job</th>\n",
       "      <th>marital</th>\n",
       "      <th>education</th>\n",
       "      <th>default</th>\n",
       "      <th>housing</th>\n",
       "      <th>loan</th>\n",
       "      <th>contact</th>\n",
       "      <th>month</th>\n",
       "      <th>poutcome</th>\n",
       "      <th>y</th>\n",
       "    </tr>\n",
       "  </thead>\n",
       "  <tbody>\n",
       "    <tr>\n",
       "      <th>0</th>\n",
       "      <td>management</td>\n",
       "      <td>married</td>\n",
       "      <td>tertiary</td>\n",
       "      <td>no</td>\n",
       "      <td>yes</td>\n",
       "      <td>no</td>\n",
       "      <td>cellular</td>\n",
       "      <td>may</td>\n",
       "      <td>unknown</td>\n",
       "      <td>no</td>\n",
       "    </tr>\n",
       "    <tr>\n",
       "      <th>1</th>\n",
       "      <td>technician</td>\n",
       "      <td>single</td>\n",
       "      <td>secondary</td>\n",
       "      <td>no</td>\n",
       "      <td>yes</td>\n",
       "      <td>no</td>\n",
       "      <td>cellular</td>\n",
       "      <td>may</td>\n",
       "      <td>unknown</td>\n",
       "      <td>no</td>\n",
       "    </tr>\n",
       "    <tr>\n",
       "      <th>2</th>\n",
       "      <td>entrepreneur</td>\n",
       "      <td>married</td>\n",
       "      <td>secondary</td>\n",
       "      <td>no</td>\n",
       "      <td>yes</td>\n",
       "      <td>yes</td>\n",
       "      <td>cellular</td>\n",
       "      <td>may</td>\n",
       "      <td>unknown</td>\n",
       "      <td>no</td>\n",
       "    </tr>\n",
       "    <tr>\n",
       "      <th>3</th>\n",
       "      <td>blue-collar</td>\n",
       "      <td>married</td>\n",
       "      <td>secondary</td>\n",
       "      <td>no</td>\n",
       "      <td>yes</td>\n",
       "      <td>no</td>\n",
       "      <td>cellular</td>\n",
       "      <td>may</td>\n",
       "      <td>unknown</td>\n",
       "      <td>no</td>\n",
       "    </tr>\n",
       "    <tr>\n",
       "      <th>4</th>\n",
       "      <td>blue-collar</td>\n",
       "      <td>single</td>\n",
       "      <td>secondary</td>\n",
       "      <td>no</td>\n",
       "      <td>no</td>\n",
       "      <td>no</td>\n",
       "      <td>cellular</td>\n",
       "      <td>may</td>\n",
       "      <td>unknown</td>\n",
       "      <td>no</td>\n",
       "    </tr>\n",
       "  </tbody>\n",
       "</table>\n",
       "</div>"
      ],
      "text/plain": [
       "            job  marital  education default housing loan   contact month  \\\n",
       "0    management  married   tertiary      no     yes   no  cellular   may   \n",
       "1    technician   single  secondary      no     yes   no  cellular   may   \n",
       "2  entrepreneur  married  secondary      no     yes  yes  cellular   may   \n",
       "3   blue-collar  married  secondary      no     yes   no  cellular   may   \n",
       "4   blue-collar   single  secondary      no      no   no  cellular   may   \n",
       "\n",
       "  poutcome   y  \n",
       "0  unknown  no  \n",
       "1  unknown  no  \n",
       "2  unknown  no  \n",
       "3  unknown  no  \n",
       "4  unknown  no  "
      ]
     },
     "execution_count": 16,
     "metadata": {},
     "output_type": "execute_result"
    }
   ],
   "source": [
    "df[categorical_features].head()"
   ]
  },
  {
   "cell_type": "code",
   "execution_count": 17,
   "id": "b1348499",
   "metadata": {},
   "outputs": [
    {
     "name": "stdout",
     "output_type": "stream",
     "text": [
      "There are 7 numerical variables\n"
     ]
    },
    {
     "data": {
      "text/plain": [
       "['age', 'balance', 'day', 'duration', 'campaign', 'pdays', 'previous']"
      ]
     },
     "execution_count": 17,
     "metadata": {},
     "output_type": "execute_result"
    }
   ],
   "source": [
    "# Finding numerical arrtributes\n",
    "\n",
    "numerical_features = [feature for feature in df.columns if (df[feature].dtypes != 'O' )]\n",
    "print(f'There are {len(numerical_features)} numerical variables')\n",
    "numerical_features"
   ]
  },
  {
   "cell_type": "code",
   "execution_count": 18,
   "id": "bce50809",
   "metadata": {},
   "outputs": [
    {
     "data": {
      "text/html": [
       "<div>\n",
       "<style scoped>\n",
       "    .dataframe tbody tr th:only-of-type {\n",
       "        vertical-align: middle;\n",
       "    }\n",
       "\n",
       "    .dataframe tbody tr th {\n",
       "        vertical-align: top;\n",
       "    }\n",
       "\n",
       "    .dataframe thead th {\n",
       "        text-align: right;\n",
       "    }\n",
       "</style>\n",
       "<table border=\"1\" class=\"dataframe\">\n",
       "  <thead>\n",
       "    <tr style=\"text-align: right;\">\n",
       "      <th></th>\n",
       "      <th>age</th>\n",
       "      <th>balance</th>\n",
       "      <th>day</th>\n",
       "      <th>duration</th>\n",
       "      <th>campaign</th>\n",
       "      <th>pdays</th>\n",
       "      <th>previous</th>\n",
       "    </tr>\n",
       "  </thead>\n",
       "  <tbody>\n",
       "    <tr>\n",
       "      <th>0</th>\n",
       "      <td>58</td>\n",
       "      <td>2143</td>\n",
       "      <td>5</td>\n",
       "      <td>261</td>\n",
       "      <td>1</td>\n",
       "      <td>-1</td>\n",
       "      <td>0</td>\n",
       "    </tr>\n",
       "    <tr>\n",
       "      <th>1</th>\n",
       "      <td>44</td>\n",
       "      <td>29</td>\n",
       "      <td>5</td>\n",
       "      <td>151</td>\n",
       "      <td>1</td>\n",
       "      <td>-1</td>\n",
       "      <td>0</td>\n",
       "    </tr>\n",
       "    <tr>\n",
       "      <th>2</th>\n",
       "      <td>33</td>\n",
       "      <td>2</td>\n",
       "      <td>5</td>\n",
       "      <td>76</td>\n",
       "      <td>1</td>\n",
       "      <td>-1</td>\n",
       "      <td>0</td>\n",
       "    </tr>\n",
       "    <tr>\n",
       "      <th>3</th>\n",
       "      <td>47</td>\n",
       "      <td>1506</td>\n",
       "      <td>5</td>\n",
       "      <td>92</td>\n",
       "      <td>1</td>\n",
       "      <td>-1</td>\n",
       "      <td>0</td>\n",
       "    </tr>\n",
       "    <tr>\n",
       "      <th>4</th>\n",
       "      <td>33</td>\n",
       "      <td>1</td>\n",
       "      <td>5</td>\n",
       "      <td>198</td>\n",
       "      <td>1</td>\n",
       "      <td>-1</td>\n",
       "      <td>0</td>\n",
       "    </tr>\n",
       "  </tbody>\n",
       "</table>\n",
       "</div>"
      ],
      "text/plain": [
       "   age  balance  day  duration  campaign  pdays  previous\n",
       "0   58     2143    5       261         1     -1         0\n",
       "1   44       29    5       151         1     -1         0\n",
       "2   33        2    5        76         1     -1         0\n",
       "3   47     1506    5        92         1     -1         0\n",
       "4   33        1    5       198         1     -1         0"
      ]
     },
     "execution_count": 18,
     "metadata": {},
     "output_type": "execute_result"
    }
   ],
   "source": [
    "# Checking the head of the numerical arrtributes\n",
    "df[numerical_features].head()"
   ]
  },
  {
   "cell_type": "markdown",
   "id": "b87b988b",
   "metadata": {},
   "source": [
    "Observation :\n",
    "\n",
    "After splitting our dataset we see that there are 10 categorical variables and 7 numerical variables"
   ]
  },
  {
   "cell_type": "markdown",
   "id": "694d9072",
   "metadata": {},
   "source": [
    "# Data visualization & Data Analysis"
   ]
  },
  {
   "cell_type": "code",
   "execution_count": 19,
   "id": "f445b588",
   "metadata": {},
   "outputs": [
    {
     "data": {
      "text/plain": [
       "<Axes: xlabel='y', ylabel='Count'>"
      ]
     },
     "execution_count": 19,
     "metadata": {},
     "output_type": "execute_result"
    },
    {
     "data": {
      "image/png": "[encoded data removed]",
      "text/plain": [
       "<Figure size 640x480 with 1 Axes>"
      ]
     },
     "metadata": {},
     "output_type": "display_data"
    }
   ],
   "source": [
    "# Let us see the target variable 'y' through histplot\n",
    "\n",
    "sbn.histplot(df.y)"
   ]
  },
  {
   "cell_type": "markdown",
   "id": "40947976",
   "metadata": {},
   "source": [
    " observation : it is highly imbalanced data"
   ]
  },
  {
   "cell_type": "code",
   "execution_count": 20,
   "id": "09f93710",
   "metadata": {},
   "outputs": [
    {
     "data": {
      "text/plain": [
       "y\n",
       "no     39922\n",
       "yes     5289\n",
       "Name: y, dtype: int64"
      ]
     },
     "execution_count": 20,
     "metadata": {},
     "output_type": "execute_result"
    }
   ],
   "source": [
    "df['y'].groupby(df['y']).count()"
   ]
  },
  {
   "cell_type": "markdown",
   "id": "2428da5e",
   "metadata": {},
   "source": [
    "Observation : \n",
    "\n",
    "It is highly inbalanced data and the no to yes ratio is nearly 7.5:1, means for every 7 to 8 persons only one person ready to take the subcription from the bank for the given data."
   ]
  },
  {
   "cell_type": "code",
   "execution_count": 21,
   "id": "9ae4a8f1",
   "metadata": {},
   "outputs": [
    {
     "data": {
      "image/png": "[encoded data removed]",
      "text/plain": [
       "<Figure size 2000x8000 with 10 Axes>"
      ]
     },
     "metadata": {},
     "output_type": "display_data"
    }
   ],
   "source": [
    "#Univariate Analysis of Categorical attributes.\n",
    "\n",
    "plt.figure(figsize=(20,80),facecolor='white')\n",
    "plotnumber=1\n",
    "for cat_feature in categorical_features:\n",
    "    x=plt.subplot(12,3,plotnumber)\n",
    "    sbn.countplot(y=cat_feature,data=df)\n",
    "    plt.xlabel(cat_feature)\n",
    "    plt.title(cat_feature)\n",
    "    plotnumber+=1\n",
    "plt.show()  "
   ]
  },
  {
   "cell_type": "code",
   "execution_count": 22,
   "id": "ddf64c6f",
   "metadata": {},
   "outputs": [
    {
     "name": "stderr",
     "output_type": "stream",
     "text": [
      "C:\\Users\\kuruk\\AppData\\Local\\Temp\\ipykernel_13708\\29536719.py:8: UserWarning: \n",
      "\n",
      "`distplot` is a deprecated function and will be removed in seaborn v0.14.0.\n",
      "\n",
      "Please adapt your code to use either `displot` (a figure-level function with\n",
      "similar flexibility) or `histplot` (an axes-level function for histograms).\n",
      "\n",
      "For a guide to updating your code to use the new functions, please see\n",
      "https://gist.github.com/mwaskom/de44147ed2974457ad6372750bbe5751\n",
      "\n",
      "  sbn.distplot(df[i],color='green')\n",
      "C:\\Users\\kuruk\\AppData\\Local\\Temp\\ipykernel_13708\\29536719.py:8: UserWarning: \n",
      "\n",
      "`distplot` is a deprecated function and will be removed in seaborn v0.14.0.\n",
      "\n",
      "Please adapt your code to use either `displot` (a figure-level function with\n",
      "similar flexibility) or `histplot` (an axes-level function for histograms).\n",
      "\n",
      "For a guide to updating your code to use the new functions, please see\n",
      "https://gist.github.com/mwaskom/de44147ed2974457ad6372750bbe5751\n",
      "\n",
      "  sbn.distplot(df[i],color='green')\n",
      "C:\\Users\\kuruk\\AppData\\Local\\Temp\\ipykernel_13708\\29536719.py:10: UserWarning: The figure layout has changed to tight\n",
      "  plt.tight_layout()\n",
      "C:\\Users\\kuruk\\AppData\\Local\\Temp\\ipykernel_13708\\29536719.py:8: UserWarning: \n",
      "\n",
      "`distplot` is a deprecated function and will be removed in seaborn v0.14.0.\n",
      "\n",
      "Please adapt your code to use either `displot` (a figure-level function with\n",
      "similar flexibility) or `histplot` (an axes-level function for histograms).\n",
      "\n",
      "For a guide to updating your code to use the new functions, please see\n",
      "https://gist.github.com/mwaskom/de44147ed2974457ad6372750bbe5751\n",
      "\n",
      "  sbn.distplot(df[i],color='green')\n",
      "C:\\Users\\kuruk\\AppData\\Local\\Temp\\ipykernel_13708\\29536719.py:10: UserWarning: The figure layout has changed to tight\n",
      "  plt.tight_layout()\n",
      "C:\\Users\\kuruk\\AppData\\Local\\Temp\\ipykernel_13708\\29536719.py:8: UserWarning: \n",
      "\n",
      "`distplot` is a deprecated function and will be removed in seaborn v0.14.0.\n",
      "\n",
      "Please adapt your code to use either `displot` (a figure-level function with\n",
      "similar flexibility) or `histplot` (an axes-level function for histograms).\n",
      "\n",
      "For a guide to updating your code to use the new functions, please see\n",
      "https://gist.github.com/mwaskom/de44147ed2974457ad6372750bbe5751\n",
      "\n",
      "  sbn.distplot(df[i],color='green')\n",
      "C:\\Users\\kuruk\\AppData\\Local\\Temp\\ipykernel_13708\\29536719.py:10: UserWarning: The figure layout has changed to tight\n",
      "  plt.tight_layout()\n",
      "C:\\Users\\kuruk\\AppData\\Local\\Temp\\ipykernel_13708\\29536719.py:8: UserWarning: \n",
      "\n",
      "`distplot` is a deprecated function and will be removed in seaborn v0.14.0.\n",
      "\n",
      "Please adapt your code to use either `displot` (a figure-level function with\n",
      "similar flexibility) or `histplot` (an axes-level function for histograms).\n",
      "\n",
      "For a guide to updating your code to use the new functions, please see\n",
      "https://gist.github.com/mwaskom/de44147ed2974457ad6372750bbe5751\n",
      "\n",
      "  sbn.distplot(df[i],color='green')\n",
      "C:\\Users\\kuruk\\AppData\\Local\\Temp\\ipykernel_13708\\29536719.py:10: UserWarning: The figure layout has changed to tight\n",
      "  plt.tight_layout()\n",
      "C:\\Users\\kuruk\\AppData\\Local\\Temp\\ipykernel_13708\\29536719.py:8: UserWarning: \n",
      "\n",
      "`distplot` is a deprecated function and will be removed in seaborn v0.14.0.\n",
      "\n",
      "Please adapt your code to use either `displot` (a figure-level function with\n",
      "similar flexibility) or `histplot` (an axes-level function for histograms).\n",
      "\n",
      "For a guide to updating your code to use the new functions, please see\n",
      "https://gist.github.com/mwaskom/de44147ed2974457ad6372750bbe5751\n",
      "\n",
      "  sbn.distplot(df[i],color='green')\n",
      "C:\\Users\\kuruk\\AppData\\Local\\Temp\\ipykernel_13708\\29536719.py:10: UserWarning: The figure layout has changed to tight\n",
      "  plt.tight_layout()\n",
      "C:\\Users\\kuruk\\AppData\\Local\\Temp\\ipykernel_13708\\29536719.py:8: UserWarning: \n",
      "\n",
      "`distplot` is a deprecated function and will be removed in seaborn v0.14.0.\n",
      "\n",
      "Please adapt your code to use either `displot` (a figure-level function with\n",
      "similar flexibility) or `histplot` (an axes-level function for histograms).\n",
      "\n",
      "For a guide to updating your code to use the new functions, please see\n",
      "https://gist.github.com/mwaskom/de44147ed2974457ad6372750bbe5751\n",
      "\n",
      "  sbn.distplot(df[i],color='green')\n",
      "C:\\Users\\kuruk\\AppData\\Local\\Temp\\ipykernel_13708\\29536719.py:10: UserWarning: The figure layout has changed to tight\n",
      "  plt.tight_layout()\n"
     ]
    },
    {
     "data": {
      "image/png": "[encoded data removed]",
      "text/plain": [
       "<Figure size 1500x5000 with 7 Axes>"
      ]
     },
     "metadata": {},
     "output_type": "display_data"
    }
   ],
   "source": [
    "# Distibution plot of Numerical attributes.\n",
    "\n",
    "plot_num=1\n",
    "plt.figure(figsize=(15,50))\n",
    "for i in numerical_features:\n",
    "  plt.subplot(12,3,plot_num)\n",
    "  plot_num= plot_num+1\n",
    "  sbn.distplot(df[i],color='green')\n",
    "  plt.title(i)\n",
    "  plt.tight_layout()"
   ]
  },
  {
   "cell_type": "code",
   "execution_count": 23,
   "id": "20438fbd",
   "metadata": {},
   "outputs": [
    {
     "data": {
      "image/png": "[encoded data removed]",
      "text/plain": [
       "<Figure size 2000x6000 with 7 Axes>"
      ]
     },
     "metadata": {},
     "output_type": "display_data"
    }
   ],
   "source": [
    "# ploting a boxplot for each numerical arrtribute to check the outliers\n",
    "\n",
    "plt.figure(figsize=(20,60), facecolor='white')\n",
    "plotnumber = 1\n",
    "for num_feature in numerical_features:\n",
    "    ax = plt.subplot(12,3,plotnumber)\n",
    "    sbn.boxplot(df[num_feature])\n",
    "    plt.xlabel(num_feature)\n",
    "    plotnumber += 1\n",
    "plt.show()"
   ]
  },
  {
   "cell_type": "markdown",
   "id": "38f40628",
   "metadata": {},
   "source": [
    "Observation :\n",
    "\n",
    "After plotting the boxplot we observe that except 'day' arrtribute remaining all numeric arrtributes consist of outliers"
   ]
  },
  {
   "cell_type": "code",
   "execution_count": 24,
   "id": "0f242201",
   "metadata": {},
   "outputs": [
    {
     "data": {
      "image/png": "[encoded data removed]",
      "text/plain": [
       "<Figure size 2000x1000 with 1 Axes>"
      ]
     },
     "metadata": {},
     "output_type": "display_data"
    }
   ],
   "source": [
    "# Bivariate Analysis of Numerical arrtributes with Target Variable\n",
    "\n",
    "# let as see the count subscriptions rates for bank campaign on the basis of different type of job in the dataset\n",
    "\n",
    "plt.figure(figsize=(20, 10))\n",
    "sbn.countplot(data=df, x='job', hue='y', palette='bright')\n",
    "plt.xlabel('Job')\n",
    "plt.title('Count of different job types')\n",
    "plt.show()"
   ]
  },
  {
   "cell_type": "markdown",
   "id": "ce7c7bc8",
   "metadata": {},
   "source": [
    "observation :\n",
    "\n",
    "The subscription rate of 'management', 'tecnician' and 'blue-collar' job holders are more likely to take bank subscriptions are more when compare to others."
   ]
  },
  {
   "cell_type": "code",
   "execution_count": 25,
   "id": "f239c982",
   "metadata": {},
   "outputs": [
    {
     "data": {
      "image/png": "[encoded data removed]",
      "text/plain": [
       "<Figure size 1000x500 with 1 Axes>"
      ]
     },
     "metadata": {},
     "output_type": "display_data"
    }
   ],
   "source": [
    "# count plot of the days with the target variable 'y'\n",
    "\n",
    "fig, ax = plt.subplots(figsize=(10, 5))\n",
    "sbn.countplot(x='day', hue='y', data=df, palette='bright', ax=ax)\n",
    "\n",
    "# labeling the plot\n",
    "\n",
    "plt.xlabel('Day')\n",
    "plt.ylabel('Count')\n",
    "plt.title('Count of Days with Target Variable')\n",
    "plt.show()"
   ]
  },
  {
   "cell_type": "markdown",
   "id": "f6222274",
   "metadata": {},
   "source": [
    "Observation :-\n",
    "\n",
    "we can see that majority of subscription on 30th date of every month"
   ]
  },
  {
   "cell_type": "code",
   "execution_count": 26,
   "id": "cfc2d7a5",
   "metadata": {},
   "outputs": [
    {
     "data": {
      "image/png": "[encoded data removed]",
      "text/plain": [
       "<Figure size 1200x600 with 1 Axes>"
      ]
     },
     "metadata": {},
     "output_type": "display_data"
    }
   ],
   "source": [
    "# count of people with different marital statuses taking subscription rates\n",
    "\n",
    "plt.figure(figsize=(12, 6))\n",
    "sbn.countplot(data=df, x='marital', hue='y', palette='bright')\n",
    "plt.xlabel('Marital Status')\n",
    "plt.title('Count of people with different marital statuses')\n",
    "plt.show()"
   ]
  },
  {
   "cell_type": "markdown",
   "id": "b72a3010",
   "metadata": {},
   "source": [
    "observation :\n",
    "\n",
    "married and single people have ready to take more subscriptions from the bank when compared to divorced people in the given dataset."
   ]
  },
  {
   "cell_type": "code",
   "execution_count": 27,
   "id": "eea9e6e6",
   "metadata": {},
   "outputs": [
    {
     "data": {
      "image/png": "[encoded data removed]",
      "text/plain": [
       "<Figure size 1200x600 with 1 Axes>"
      ]
     },
     "metadata": {},
     "output_type": "display_data"
    }
   ],
   "source": [
    "# plotting the count plot of education  with target variable.\n",
    "\n",
    "plt.figure(figsize=(12, 6))\n",
    "sbn.countplot(data=df, x='education', hue='y', palette='bright')\n",
    "plt.xlabel('Education Level')\n",
    "plt.title('Count of \"Yes\" and \"No\" for different education levels')\n",
    "plt.show()"
   ]
  },
  {
   "cell_type": "markdown",
   "id": "c6d8413a",
   "metadata": {},
   "source": [
    "observation :\n",
    "\n",
    "secondary and teritiary educational level people have more likely to take subscriptions from the bank when compared to the primary education people in the given dataset."
   ]
  },
  {
   "cell_type": "code",
   "execution_count": 28,
   "id": "34fc5be3",
   "metadata": {},
   "outputs": [
    {
     "data": {
      "image/png": "[encoded data removed]",
      "text/plain": [
       "<Figure size 1000x500 with 1 Axes>"
      ]
     },
     "metadata": {},
     "output_type": "display_data"
    }
   ],
   "source": [
    "# ploting count plot on the basis of month with the target variable\n",
    "\n",
    "plt.figure(figsize=(10, 5))\n",
    "sbn.countplot(data=df, x='month', hue='y', palette='bright')\n",
    "plt.xlabel('Month')\n",
    "plt.title('Count on the basis of Month')\n",
    "plt.show()"
   ]
  },
  {
   "cell_type": "markdown",
   "id": "b99b16b9",
   "metadata": {},
   "source": [
    "Observation :\n",
    "\n",
    "In the month of may the people ready to take more rates of subscriptions from the bank."
   ]
  },
  {
   "cell_type": "code",
   "execution_count": 29,
   "id": "0b99bc01",
   "metadata": {},
   "outputs": [
    {
     "data": {
      "image/png": "[encoded data removed]",
      "text/plain": [
       "<Figure size 1000x500 with 1 Axes>"
      ]
     },
     "metadata": {},
     "output_type": "display_data"
    }
   ],
   "source": [
    "# plotting the count plot of  contact type with target variable.\n",
    "\n",
    "plt.figure(figsize=(10, 5))\n",
    "sbn.countplot(data=df, x='contact', hue='y', palette='bright')\n",
    "plt.xlabel('Contact Type')\n",
    "plt.title('Count of \"Yes\" and \"No\" for different contact types')\n",
    "plt.show()"
   ]
  },
  {
   "cell_type": "markdown",
   "id": "83b27630",
   "metadata": {},
   "source": [
    "Observation :\n",
    "\n",
    "cellular contact type of communicated people are more likely to take subscription from the banks by analyzing this data from the given dataset"
   ]
  },
  {
   "cell_type": "markdown",
   "id": "e974c659",
   "metadata": {},
   "source": [
    "# Data Preprocessing :"
   ]
  },
  {
   "cell_type": "code",
   "execution_count": null,
   "id": "ff3c62ce",
   "metadata": {},
   "outputs": [],
   "source": []
  },
  {
   "cell_type": "markdown",
   "id": "4762d8cb",
   "metadata": {},
   "source": [
    "# I used label encoding and standardization methods to process the given data"
   ]
  },
  {
   "cell_type": "code",
   "execution_count": 30,
   "id": "22eb5e35",
   "metadata": {},
   "outputs": [
    {
     "name": "stdout",
     "output_type": "stream",
     "text": [
      "job\n",
      "['management' 'technician' 'entrepreneur' 'blue-collar' 'retired' 'admin.'\n",
      " 'services' 'self-employed' 'unemployed' 'housemaid' 'student']\n",
      "marital\n",
      "['married' 'single' 'divorced']\n",
      "education\n",
      "['tertiary' 'secondary' 'primary']\n",
      "default\n",
      "['no' 'yes']\n",
      "housing\n",
      "['yes' 'no']\n",
      "loan\n",
      "['no' 'yes']\n",
      "contact\n",
      "['cellular' 'telephone']\n",
      "month\n",
      "['may' 'jun' 'jul' 'aug' 'oct' 'nov' 'dec' 'jan' 'feb' 'mar' 'apr' 'sep']\n",
      "poutcome\n",
      "['unknown' 'failure' 'other' 'success']\n",
      "y\n",
      "['no' 'yes']\n"
     ]
    }
   ],
   "source": [
    "# converting the categorical attribute data into numerical data\n",
    "# Finding categorical arrtributes\n",
    "\n",
    "for column in df.select_dtypes(include='object').columns:\n",
    "    print(column)\n",
    "    print(df[column].unique())"
   ]
  },
  {
   "cell_type": "markdown",
   "id": "77fe75a0",
   "metadata": {},
   "source": [
    "# Label encoding\n",
    "\n",
    "Many machine learning algorithms require numerical inputs, so you need to encode categorical arrtributes into numbers. Label encoding assigns a unique integer to each category. However, it's essential to note that using label encoding for ordinal data can imply an ordinal relationship.\n",
    "      but the one-hot encoding used for non ordinal relationships.so, here all meaning full order of data so we use label encoding technique to this data.\n",
    "      "
   ]
  },
  {
   "cell_type": "code",
   "execution_count": 31,
   "id": "28c0dc54",
   "metadata": {},
   "outputs": [],
   "source": [
    "#Label encoding\n",
    "from sklearn.preprocessing import LabelEncoder\n",
    "columns_to_encode = ['job', 'marital', 'education', 'default', 'housing', 'loan', 'contact', 'month', 'poutcome', 'y']\n",
    "lab = LabelEncoder()\n",
    "for column in columns_to_encode:\n",
    "    df[column] = lab.fit_transform(df[column])"
   ]
  },
  {
   "cell_type": "code",
   "execution_count": 32,
   "id": "bcbf74ea",
   "metadata": {},
   "outputs": [
    {
     "data": {
      "text/html": [
       "<div>\n",
       "<style scoped>\n",
       "    .dataframe tbody tr th:only-of-type {\n",
       "        vertical-align: middle;\n",
       "    }\n",
       "\n",
       "    .dataframe tbody tr th {\n",
       "        vertical-align: top;\n",
       "    }\n",
       "\n",
       "    .dataframe thead th {\n",
       "        text-align: right;\n",
       "    }\n",
       "</style>\n",
       "<table border=\"1\" class=\"dataframe\">\n",
       "  <thead>\n",
       "    <tr style=\"text-align: right;\">\n",
       "      <th></th>\n",
       "      <th>age</th>\n",
       "      <th>job</th>\n",
       "      <th>marital</th>\n",
       "      <th>education</th>\n",
       "      <th>default</th>\n",
       "      <th>balance</th>\n",
       "      <th>housing</th>\n",
       "      <th>loan</th>\n",
       "      <th>contact</th>\n",
       "      <th>day</th>\n",
       "      <th>month</th>\n",
       "      <th>duration</th>\n",
       "      <th>campaign</th>\n",
       "      <th>pdays</th>\n",
       "      <th>previous</th>\n",
       "      <th>poutcome</th>\n",
       "      <th>y</th>\n",
       "    </tr>\n",
       "  </thead>\n",
       "  <tbody>\n",
       "    <tr>\n",
       "      <th>0</th>\n",
       "      <td>58</td>\n",
       "      <td>4</td>\n",
       "      <td>1</td>\n",
       "      <td>2</td>\n",
       "      <td>0</td>\n",
       "      <td>2143</td>\n",
       "      <td>1</td>\n",
       "      <td>0</td>\n",
       "      <td>0</td>\n",
       "      <td>5</td>\n",
       "      <td>8</td>\n",
       "      <td>261</td>\n",
       "      <td>1</td>\n",
       "      <td>-1</td>\n",
       "      <td>0</td>\n",
       "      <td>3</td>\n",
       "      <td>0</td>\n",
       "    </tr>\n",
       "    <tr>\n",
       "      <th>1</th>\n",
       "      <td>44</td>\n",
       "      <td>9</td>\n",
       "      <td>2</td>\n",
       "      <td>1</td>\n",
       "      <td>0</td>\n",
       "      <td>29</td>\n",
       "      <td>1</td>\n",
       "      <td>0</td>\n",
       "      <td>0</td>\n",
       "      <td>5</td>\n",
       "      <td>8</td>\n",
       "      <td>151</td>\n",
       "      <td>1</td>\n",
       "      <td>-1</td>\n",
       "      <td>0</td>\n",
       "      <td>3</td>\n",
       "      <td>0</td>\n",
       "    </tr>\n",
       "    <tr>\n",
       "      <th>2</th>\n",
       "      <td>33</td>\n",
       "      <td>2</td>\n",
       "      <td>1</td>\n",
       "      <td>1</td>\n",
       "      <td>0</td>\n",
       "      <td>2</td>\n",
       "      <td>1</td>\n",
       "      <td>1</td>\n",
       "      <td>0</td>\n",
       "      <td>5</td>\n",
       "      <td>8</td>\n",
       "      <td>76</td>\n",
       "      <td>1</td>\n",
       "      <td>-1</td>\n",
       "      <td>0</td>\n",
       "      <td>3</td>\n",
       "      <td>0</td>\n",
       "    </tr>\n",
       "    <tr>\n",
       "      <th>3</th>\n",
       "      <td>47</td>\n",
       "      <td>1</td>\n",
       "      <td>1</td>\n",
       "      <td>1</td>\n",
       "      <td>0</td>\n",
       "      <td>1506</td>\n",
       "      <td>1</td>\n",
       "      <td>0</td>\n",
       "      <td>0</td>\n",
       "      <td>5</td>\n",
       "      <td>8</td>\n",
       "      <td>92</td>\n",
       "      <td>1</td>\n",
       "      <td>-1</td>\n",
       "      <td>0</td>\n",
       "      <td>3</td>\n",
       "      <td>0</td>\n",
       "    </tr>\n",
       "    <tr>\n",
       "      <th>4</th>\n",
       "      <td>33</td>\n",
       "      <td>1</td>\n",
       "      <td>2</td>\n",
       "      <td>1</td>\n",
       "      <td>0</td>\n",
       "      <td>1</td>\n",
       "      <td>0</td>\n",
       "      <td>0</td>\n",
       "      <td>0</td>\n",
       "      <td>5</td>\n",
       "      <td>8</td>\n",
       "      <td>198</td>\n",
       "      <td>1</td>\n",
       "      <td>-1</td>\n",
       "      <td>0</td>\n",
       "      <td>3</td>\n",
       "      <td>0</td>\n",
       "    </tr>\n",
       "  </tbody>\n",
       "</table>\n",
       "</div>"
      ],
      "text/plain": [
       "   age  job  marital  education  default  balance  housing  loan  contact  \\\n",
       "0   58    4        1          2        0     2143        1     0        0   \n",
       "1   44    9        2          1        0       29        1     0        0   \n",
       "2   33    2        1          1        0        2        1     1        0   \n",
       "3   47    1        1          1        0     1506        1     0        0   \n",
       "4   33    1        2          1        0        1        0     0        0   \n",
       "\n",
       "   day  month  duration  campaign  pdays  previous  poutcome  y  \n",
       "0    5      8       261         1     -1         0         3  0  \n",
       "1    5      8       151         1     -1         0         3  0  \n",
       "2    5      8        76         1     -1         0         3  0  \n",
       "3    5      8        92         1     -1         0         3  0  \n",
       "4    5      8       198         1     -1         0         3  0  "
      ]
     },
     "execution_count": 32,
     "metadata": {},
     "output_type": "execute_result"
    }
   ],
   "source": [
    "df.head()"
   ]
  },
  {
   "cell_type": "code",
   "execution_count": 33,
   "id": "947603cf",
   "metadata": {},
   "outputs": [
    {
     "data": {
      "text/plain": [
       "<Axes: xlabel='y', ylabel='Count'>"
      ]
     },
     "execution_count": 33,
     "metadata": {},
     "output_type": "execute_result"
    },
    {
     "data": {
      "image/png": "[encoded data removed]",
      "text/plain": [
       "<Figure size 640x480 with 1 Axes>"
      ]
     },
     "metadata": {},
     "output_type": "display_data"
    }
   ],
   "source": [
    "# Let us see the target variable 'y' through histplot\n",
    "\n",
    "sbn.histplot(df.y)"
   ]
  },
  {
   "cell_type": "raw",
   "id": "22ffa2da",
   "metadata": {},
   "source": [
    " it is highly imbalanced dataset so to handle this is a difficult process to get good accuracy for that we use sampling method to eigher over sampling(SMOTE) or under sampling methods would like to use. here i used the oversampling(SMOTE) method to avoid the loss of information(in under sampling)"
   ]
  },
  {
   "cell_type": "raw",
   "id": "1f9096c3",
   "metadata": {},
   "source": [
    "# implementing the SMOTE to oversampling the imbalanced data\n",
    "\n",
    "from collections import Counter\n",
    "from imblearn.over_sampling import SMOTE\n",
    "\n",
    "# Create the instance of SMOTE\n",
    "\n",
    "sm = SMOTE(random_state=0)\n",
    "\n",
    "# Fit and transform the training data using SMOTE\n",
    "X_train_os, y_train_os = sm.fit_resample(X_train, y_train)\n",
    "\n",
    "# Calculate class distribution before and after SMOTE\n",
    "original_class_distribution = Counter(y_train)\n",
    "resampled_class_distribution = Counter(y_train_os)\n",
    "\n",
    "# Print the class distribution\n",
    "print('Original class distribution:', original_class_distribution)\n",
    "print('Resampled class distribution:', resampled_class_distribution)\n"
   ]
  },
  {
   "cell_type": "raw",
   "id": "5acbc063",
   "metadata": {},
   "source": [
    "# Let us see the target variable 'y' through histplot\n",
    "\n",
    "sbn.histplot(df.y)"
   ]
  },
  {
   "cell_type": "markdown",
   "id": "28d12d9f",
   "metadata": {},
   "source": [
    "# standardization \n",
    "\n",
    "  Data standardization is important in data preprocessing because it helps to improve the accuracy and performance of machine learning models. By standardizing the data, all of the features are on the same scale, which makes it easier for the model to learn and make predictions.\n",
    "         Many machine learning algorithms are sensitive to the scale of input arrtributes. Standardization scales arrtributes to have a mean of 0 and a standard deviation of 1, ensuring that they have similar scales and don't dominate the model's learning process.\n",
    "         but normalization technique used to scale numerical features to a specific range while preserving their original distribution.So, here standardization technique was suitable to apply for the given data."
   ]
  },
  {
   "cell_type": "code",
   "execution_count": 34,
   "id": "86f88ae6",
   "metadata": {},
   "outputs": [
    {
     "data": {
      "text/html": [
       "<div>\n",
       "<style scoped>\n",
       "    .dataframe tbody tr th:only-of-type {\n",
       "        vertical-align: middle;\n",
       "    }\n",
       "\n",
       "    .dataframe tbody tr th {\n",
       "        vertical-align: top;\n",
       "    }\n",
       "\n",
       "    .dataframe thead th {\n",
       "        text-align: right;\n",
       "    }\n",
       "</style>\n",
       "<table border=\"1\" class=\"dataframe\">\n",
       "  <thead>\n",
       "    <tr style=\"text-align: right;\">\n",
       "      <th></th>\n",
       "      <th>age</th>\n",
       "      <th>job</th>\n",
       "      <th>marital</th>\n",
       "      <th>education</th>\n",
       "      <th>default</th>\n",
       "      <th>balance</th>\n",
       "      <th>housing</th>\n",
       "      <th>loan</th>\n",
       "      <th>contact</th>\n",
       "      <th>day</th>\n",
       "      <th>month</th>\n",
       "      <th>duration</th>\n",
       "      <th>campaign</th>\n",
       "      <th>pdays</th>\n",
       "      <th>previous</th>\n",
       "      <th>poutcome</th>\n",
       "    </tr>\n",
       "  </thead>\n",
       "  <tbody>\n",
       "    <tr>\n",
       "      <th>0</th>\n",
       "      <td>1.606965</td>\n",
       "      <td>-0.085217</td>\n",
       "      <td>-0.275762</td>\n",
       "      <td>1.314507</td>\n",
       "      <td>-0.13549</td>\n",
       "      <td>0.256419</td>\n",
       "      <td>0.893915</td>\n",
       "      <td>-0.436803</td>\n",
       "      <td>-0.262091</td>\n",
       "      <td>-1.298476</td>\n",
       "      <td>0.823773</td>\n",
       "      <td>0.011016</td>\n",
       "      <td>-0.569351</td>\n",
       "      <td>-0.411453</td>\n",
       "      <td>-0.25194</td>\n",
       "      <td>0.444898</td>\n",
       "    </tr>\n",
       "    <tr>\n",
       "      <th>1</th>\n",
       "      <td>0.288529</td>\n",
       "      <td>1.458223</td>\n",
       "      <td>1.368372</td>\n",
       "      <td>-0.218740</td>\n",
       "      <td>-0.13549</td>\n",
       "      <td>-0.437895</td>\n",
       "      <td>0.893915</td>\n",
       "      <td>-0.436803</td>\n",
       "      <td>-0.262091</td>\n",
       "      <td>-1.298476</td>\n",
       "      <td>0.823773</td>\n",
       "      <td>-0.416127</td>\n",
       "      <td>-0.569351</td>\n",
       "      <td>-0.411453</td>\n",
       "      <td>-0.25194</td>\n",
       "      <td>0.444898</td>\n",
       "    </tr>\n",
       "    <tr>\n",
       "      <th>2</th>\n",
       "      <td>-0.747384</td>\n",
       "      <td>-0.702593</td>\n",
       "      <td>-0.275762</td>\n",
       "      <td>-0.218740</td>\n",
       "      <td>-0.13549</td>\n",
       "      <td>-0.446762</td>\n",
       "      <td>0.893915</td>\n",
       "      <td>2.289359</td>\n",
       "      <td>-0.262091</td>\n",
       "      <td>-1.298476</td>\n",
       "      <td>0.823773</td>\n",
       "      <td>-0.707361</td>\n",
       "      <td>-0.569351</td>\n",
       "      <td>-0.411453</td>\n",
       "      <td>-0.25194</td>\n",
       "      <td>0.444898</td>\n",
       "    </tr>\n",
       "    <tr>\n",
       "      <th>3</th>\n",
       "      <td>0.571051</td>\n",
       "      <td>-1.011281</td>\n",
       "      <td>-0.275762</td>\n",
       "      <td>-0.218740</td>\n",
       "      <td>-0.13549</td>\n",
       "      <td>0.047205</td>\n",
       "      <td>0.893915</td>\n",
       "      <td>-0.436803</td>\n",
       "      <td>-0.262091</td>\n",
       "      <td>-1.298476</td>\n",
       "      <td>0.823773</td>\n",
       "      <td>-0.645231</td>\n",
       "      <td>-0.569351</td>\n",
       "      <td>-0.411453</td>\n",
       "      <td>-0.25194</td>\n",
       "      <td>0.444898</td>\n",
       "    </tr>\n",
       "    <tr>\n",
       "      <th>4</th>\n",
       "      <td>-0.747384</td>\n",
       "      <td>-1.011281</td>\n",
       "      <td>1.368372</td>\n",
       "      <td>-0.218740</td>\n",
       "      <td>-0.13549</td>\n",
       "      <td>-0.447091</td>\n",
       "      <td>-1.118674</td>\n",
       "      <td>-0.436803</td>\n",
       "      <td>-0.262091</td>\n",
       "      <td>-1.298476</td>\n",
       "      <td>0.823773</td>\n",
       "      <td>-0.233620</td>\n",
       "      <td>-0.569351</td>\n",
       "      <td>-0.411453</td>\n",
       "      <td>-0.25194</td>\n",
       "      <td>0.444898</td>\n",
       "    </tr>\n",
       "  </tbody>\n",
       "</table>\n",
       "</div>"
      ],
      "text/plain": [
       "        age       job   marital  education  default   balance   housing  \\\n",
       "0  1.606965 -0.085217 -0.275762   1.314507 -0.13549  0.256419  0.893915   \n",
       "1  0.288529  1.458223  1.368372  -0.218740 -0.13549 -0.437895  0.893915   \n",
       "2 -0.747384 -0.702593 -0.275762  -0.218740 -0.13549 -0.446762  0.893915   \n",
       "3  0.571051 -1.011281 -0.275762  -0.218740 -0.13549  0.047205  0.893915   \n",
       "4 -0.747384 -1.011281  1.368372  -0.218740 -0.13549 -0.447091 -1.118674   \n",
       "\n",
       "       loan   contact       day     month  duration  campaign     pdays  \\\n",
       "0 -0.436803 -0.262091 -1.298476  0.823773  0.011016 -0.569351 -0.411453   \n",
       "1 -0.436803 -0.262091 -1.298476  0.823773 -0.416127 -0.569351 -0.411453   \n",
       "2  2.289359 -0.262091 -1.298476  0.823773 -0.707361 -0.569351 -0.411453   \n",
       "3 -0.436803 -0.262091 -1.298476  0.823773 -0.645231 -0.569351 -0.411453   \n",
       "4 -0.436803 -0.262091 -1.298476  0.823773 -0.233620 -0.569351 -0.411453   \n",
       "\n",
       "   previous  poutcome  \n",
       "0  -0.25194  0.444898  \n",
       "1  -0.25194  0.444898  \n",
       "2  -0.25194  0.444898  \n",
       "3  -0.25194  0.444898  \n",
       "4  -0.25194  0.444898  "
      ]
     },
     "execution_count": 34,
     "metadata": {},
     "output_type": "execute_result"
    }
   ],
   "source": [
    "# standardize the arrtributes\n",
    "from sklearn.preprocessing import StandardScaler\n",
    "arrtributes = df.drop(\"y\", axis = 1)\n",
    "target_variable = df[\"y\"]\n",
    "features_num = arrtributes.columns\n",
    "scaler = StandardScaler()\n",
    "arrtributes = pd.DataFrame(scaler.fit_transform(arrtributes))\n",
    "arrtributes.columns = features_num\n",
    "\n",
    "arrtributes.head()"
   ]
  },
  {
   "cell_type": "code",
   "execution_count": 35,
   "id": "8f742a6c",
   "metadata": {},
   "outputs": [],
   "source": [
    "# export clean and processed data to the dataframe\n",
    "\n",
    "df = pd.concat([arrtributes, target_variable], axis=1,)\n",
    "df.to_csv(\"std_bank_data.csv\")"
   ]
  },
  {
   "cell_type": "code",
   "execution_count": 36,
   "id": "d2c0e6d1",
   "metadata": {},
   "outputs": [
    {
     "data": {
      "text/html": [
       "<div>\n",
       "<style scoped>\n",
       "    .dataframe tbody tr th:only-of-type {\n",
       "        vertical-align: middle;\n",
       "    }\n",
       "\n",
       "    .dataframe tbody tr th {\n",
       "        vertical-align: top;\n",
       "    }\n",
       "\n",
       "    .dataframe thead th {\n",
       "        text-align: right;\n",
       "    }\n",
       "</style>\n",
       "<table border=\"1\" class=\"dataframe\">\n",
       "  <thead>\n",
       "    <tr style=\"text-align: right;\">\n",
       "      <th></th>\n",
       "      <th>age</th>\n",
       "      <th>job</th>\n",
       "      <th>marital</th>\n",
       "      <th>education</th>\n",
       "      <th>default</th>\n",
       "      <th>balance</th>\n",
       "      <th>housing</th>\n",
       "      <th>loan</th>\n",
       "      <th>contact</th>\n",
       "      <th>day</th>\n",
       "      <th>month</th>\n",
       "      <th>duration</th>\n",
       "      <th>campaign</th>\n",
       "      <th>pdays</th>\n",
       "      <th>previous</th>\n",
       "      <th>poutcome</th>\n",
       "      <th>y</th>\n",
       "    </tr>\n",
       "  </thead>\n",
       "  <tbody>\n",
       "    <tr>\n",
       "      <th>0</th>\n",
       "      <td>1.606965</td>\n",
       "      <td>-0.085217</td>\n",
       "      <td>-0.275762</td>\n",
       "      <td>1.314507</td>\n",
       "      <td>-0.13549</td>\n",
       "      <td>0.256419</td>\n",
       "      <td>0.893915</td>\n",
       "      <td>-0.436803</td>\n",
       "      <td>-0.262091</td>\n",
       "      <td>-1.298476</td>\n",
       "      <td>0.823773</td>\n",
       "      <td>0.011016</td>\n",
       "      <td>-0.569351</td>\n",
       "      <td>-0.411453</td>\n",
       "      <td>-0.25194</td>\n",
       "      <td>0.444898</td>\n",
       "      <td>0</td>\n",
       "    </tr>\n",
       "    <tr>\n",
       "      <th>1</th>\n",
       "      <td>0.288529</td>\n",
       "      <td>1.458223</td>\n",
       "      <td>1.368372</td>\n",
       "      <td>-0.218740</td>\n",
       "      <td>-0.13549</td>\n",
       "      <td>-0.437895</td>\n",
       "      <td>0.893915</td>\n",
       "      <td>-0.436803</td>\n",
       "      <td>-0.262091</td>\n",
       "      <td>-1.298476</td>\n",
       "      <td>0.823773</td>\n",
       "      <td>-0.416127</td>\n",
       "      <td>-0.569351</td>\n",
       "      <td>-0.411453</td>\n",
       "      <td>-0.25194</td>\n",
       "      <td>0.444898</td>\n",
       "      <td>0</td>\n",
       "    </tr>\n",
       "    <tr>\n",
       "      <th>2</th>\n",
       "      <td>-0.747384</td>\n",
       "      <td>-0.702593</td>\n",
       "      <td>-0.275762</td>\n",
       "      <td>-0.218740</td>\n",
       "      <td>-0.13549</td>\n",
       "      <td>-0.446762</td>\n",
       "      <td>0.893915</td>\n",
       "      <td>2.289359</td>\n",
       "      <td>-0.262091</td>\n",
       "      <td>-1.298476</td>\n",
       "      <td>0.823773</td>\n",
       "      <td>-0.707361</td>\n",
       "      <td>-0.569351</td>\n",
       "      <td>-0.411453</td>\n",
       "      <td>-0.25194</td>\n",
       "      <td>0.444898</td>\n",
       "      <td>0</td>\n",
       "    </tr>\n",
       "    <tr>\n",
       "      <th>3</th>\n",
       "      <td>0.571051</td>\n",
       "      <td>-1.011281</td>\n",
       "      <td>-0.275762</td>\n",
       "      <td>-0.218740</td>\n",
       "      <td>-0.13549</td>\n",
       "      <td>0.047205</td>\n",
       "      <td>0.893915</td>\n",
       "      <td>-0.436803</td>\n",
       "      <td>-0.262091</td>\n",
       "      <td>-1.298476</td>\n",
       "      <td>0.823773</td>\n",
       "      <td>-0.645231</td>\n",
       "      <td>-0.569351</td>\n",
       "      <td>-0.411453</td>\n",
       "      <td>-0.25194</td>\n",
       "      <td>0.444898</td>\n",
       "      <td>0</td>\n",
       "    </tr>\n",
       "    <tr>\n",
       "      <th>4</th>\n",
       "      <td>-0.747384</td>\n",
       "      <td>-1.011281</td>\n",
       "      <td>1.368372</td>\n",
       "      <td>-0.218740</td>\n",
       "      <td>-0.13549</td>\n",
       "      <td>-0.447091</td>\n",
       "      <td>-1.118674</td>\n",
       "      <td>-0.436803</td>\n",
       "      <td>-0.262091</td>\n",
       "      <td>-1.298476</td>\n",
       "      <td>0.823773</td>\n",
       "      <td>-0.233620</td>\n",
       "      <td>-0.569351</td>\n",
       "      <td>-0.411453</td>\n",
       "      <td>-0.25194</td>\n",
       "      <td>0.444898</td>\n",
       "      <td>0</td>\n",
       "    </tr>\n",
       "  </tbody>\n",
       "</table>\n",
       "</div>"
      ],
      "text/plain": [
       "        age       job   marital  education  default   balance   housing  \\\n",
       "0  1.606965 -0.085217 -0.275762   1.314507 -0.13549  0.256419  0.893915   \n",
       "1  0.288529  1.458223  1.368372  -0.218740 -0.13549 -0.437895  0.893915   \n",
       "2 -0.747384 -0.702593 -0.275762  -0.218740 -0.13549 -0.446762  0.893915   \n",
       "3  0.571051 -1.011281 -0.275762  -0.218740 -0.13549  0.047205  0.893915   \n",
       "4 -0.747384 -1.011281  1.368372  -0.218740 -0.13549 -0.447091 -1.118674   \n",
       "\n",
       "       loan   contact       day     month  duration  campaign     pdays  \\\n",
       "0 -0.436803 -0.262091 -1.298476  0.823773  0.011016 -0.569351 -0.411453   \n",
       "1 -0.436803 -0.262091 -1.298476  0.823773 -0.416127 -0.569351 -0.411453   \n",
       "2  2.289359 -0.262091 -1.298476  0.823773 -0.707361 -0.569351 -0.411453   \n",
       "3 -0.436803 -0.262091 -1.298476  0.823773 -0.645231 -0.569351 -0.411453   \n",
       "4 -0.436803 -0.262091 -1.298476  0.823773 -0.233620 -0.569351 -0.411453   \n",
       "\n",
       "   previous  poutcome  y  \n",
       "0  -0.25194  0.444898  0  \n",
       "1  -0.25194  0.444898  0  \n",
       "2  -0.25194  0.444898  0  \n",
       "3  -0.25194  0.444898  0  \n",
       "4  -0.25194  0.444898  0  "
      ]
     },
     "execution_count": 36,
     "metadata": {},
     "output_type": "execute_result"
    }
   ],
   "source": [
    "df.head()"
   ]
  },
  {
   "cell_type": "markdown",
   "id": "e762e7fc",
   "metadata": {},
   "source": [
    "observation : preprocessed data successfully exported to the data frame."
   ]
  },
  {
   "cell_type": "markdown",
   "id": "48109236",
   "metadata": {},
   "source": [
    "# train, test and splitting the data"
   ]
  },
  {
   "cell_type": "code",
   "execution_count": 37,
   "id": "d1242121",
   "metadata": {},
   "outputs": [],
   "source": [
    "# splitting the data into training and testing\n",
    "\n",
    "from sklearn.model_selection import train_test_split\n",
    "y = df[\"y\"]\n",
    "X = df.drop(\"y\",axis = 1)\n",
    "X_train , X_test , y_train , y_test = train_test_split(X, y, test_size = 0.2, random_state = 58, stratify=y)"
   ]
  },
  {
   "cell_type": "markdown",
   "id": "76b547b2",
   "metadata": {},
   "source": [
    "# Model Implementation:"
   ]
  },
  {
   "cell_type": "markdown",
   "id": "08b22d13",
   "metadata": {},
   "source": [
    "Logistic Regression, Naive Bayes, SVC Classifier, Decision Tree Classifier and Random Forest Classifier. Summarize the key steps:"
   ]
  },
  {
   "cell_type": "code",
   "execution_count": 38,
   "id": "8b289830",
   "metadata": {},
   "outputs": [],
   "source": [
    "# Import required libraries for machine learning models\n",
    "\n",
    "import time\n",
    "import sklearn.metrics as metrics\n",
    "from sklearn.metrics import r2_score, confusion_matrix, classification_report,accuracy_score"
   ]
  },
  {
   "cell_type": "markdown",
   "id": "3412a14d",
   "metadata": {},
   "source": [
    "# Logistic Regression Model"
   ]
  },
  {
   "cell_type": "markdown",
   "id": "bea76742",
   "metadata": {},
   "source": [
    "Logistic regression is a statistical model that predicts the probability of a binary outcome (yes/no, 0/1, or true/false) based on one or more independent variables. It is commonly used in machine learning for classification tasks.\n",
    "\n",
    "applications : whether an email is spam or not."
   ]
  },
  {
   "cell_type": "code",
   "execution_count": 39,
   "id": "000a6147",
   "metadata": {},
   "outputs": [
    {
     "data": {
      "text/html": [
       "<style>#sk-container-id-1 {color: black;}#sk-container-id-1 pre{padding: 0;}#sk-container-id-1 div.sk-toggleable {background-color: white;}#sk-container-id-1 label.sk-toggleable__label {cursor: pointer;display: block;width: 100%;margin-bottom: 0;padding: 0.3em;box-sizing: border-box;text-align: center;}#sk-container-id-1 label.sk-toggleable__label-arrow:before {content: \"▸\";float: left;margin-right: 0.25em;color: #696969;}#sk-container-id-1 label.sk-toggleable__label-arrow:hover:before {color: black;}#sk-container-id-1 div.sk-estimator:hover label.sk-toggleable__label-arrow:before {color: black;}#sk-container-id-1 div.sk-toggleable__content {max-height: 0;max-width: 0;overflow: hidden;text-align: left;background-color: #f0f8ff;}#sk-container-id-1 div.sk-toggleable__content pre {margin: 0.2em;color: black;border-radius: 0.25em;background-color: #f0f8ff;}#sk-container-id-1 input.sk-toggleable__control:checked~div.sk-toggleable__content {max-height: 200px;max-width: 100%;overflow: auto;}#sk-container-id-1 input.sk-toggleable__control:checked~label.sk-toggleable__label-arrow:before {content: \"▾\";}#sk-container-id-1 div.sk-estimator input.sk-toggleable__control:checked~label.sk-toggleable__label {background-color: #d4ebff;}#sk-container-id-1 div.sk-label input.sk-toggleable__control:checked~label.sk-toggleable__label {background-color: #d4ebff;}#sk-container-id-1 input.sk-hidden--visually {border: 0;clip: rect(1px 1px 1px 1px);clip: rect(1px, 1px, 1px, 1px);height: 1px;margin: -1px;overflow: hidden;padding: 0;position: absolute;width: 1px;}#sk-container-id-1 div.sk-estimator {font-family: monospace;background-color: #f0f8ff;border: 1px dotted black;border-radius: 0.25em;box-sizing: border-box;margin-bottom: 0.5em;}#sk-container-id-1 div.sk-estimator:hover {background-color: #d4ebff;}#sk-container-id-1 div.sk-parallel-item::after {content: \"\";width: 100%;border-bottom: 1px solid gray;flex-grow: 1;}#sk-container-id-1 div.sk-label:hover label.sk-toggleable__label {background-color: #d4ebff;}#sk-container-id-1 div.sk-serial::before {content: \"\";position: absolute;border-left: 1px solid gray;box-sizing: border-box;top: 0;bottom: 0;left: 50%;z-index: 0;}#sk-container-id-1 div.sk-serial {display: flex;flex-direction: column;align-items: center;background-color: white;padding-right: 0.2em;padding-left: 0.2em;position: relative;}#sk-container-id-1 div.sk-item {position: relative;z-index: 1;}#sk-container-id-1 div.sk-parallel {display: flex;align-items: stretch;justify-content: center;background-color: white;position: relative;}#sk-container-id-1 div.sk-item::before, #sk-container-id-1 div.sk-parallel-item::before {content: \"\";position: absolute;border-left: 1px solid gray;box-sizing: border-box;top: 0;bottom: 0;left: 50%;z-index: -1;}#sk-container-id-1 div.sk-parallel-item {display: flex;flex-direction: column;z-index: 1;position: relative;background-color: white;}#sk-container-id-1 div.sk-parallel-item:first-child::after {align-self: flex-end;width: 50%;}#sk-container-id-1 div.sk-parallel-item:last-child::after {align-self: flex-start;width: 50%;}#sk-container-id-1 div.sk-parallel-item:only-child::after {width: 0;}#sk-container-id-1 div.sk-dashed-wrapped {border: 1px dashed gray;margin: 0 0.4em 0.5em 0.4em;box-sizing: border-box;padding-bottom: 0.4em;background-color: white;}#sk-container-id-1 div.sk-label label {font-family: monospace;font-weight: bold;display: inline-block;line-height: 1.2em;}#sk-container-id-1 div.sk-label-container {text-align: center;}#sk-container-id-1 div.sk-container {/* jupyter's `normalize.less` sets `[hidden] { display: none; }` but bootstrap.min.css set `[hidden] { display: none !important; }` so we also need the `!important` here to be able to override the default hidden behavior on the sphinx rendered scikit-learn.org. See: https://github.com/scikit-learn/scikit-learn/issues/21755 */display: inline-block !important;position: relative;}#sk-container-id-1 div.sk-text-repr-fallback {display: none;}</style><div id=\"sk-container-id-1\" class=\"sk-top-container\"><div class=\"sk-text-repr-fallback\"><pre>LogisticRegression(max_iter=10000)</pre><b>In a Jupyter environment, please rerun this cell to show the HTML representation or trust the notebook. <br />On GitHub, the HTML representation is unable to render, please try loading this page with nbviewer.org.</b></div><div class=\"sk-container\" hidden><div class=\"sk-item\"><div class=\"sk-estimator sk-toggleable\"><input class=\"sk-toggleable__control sk-hidden--visually\" id=\"sk-estimator-id-1\" type=\"checkbox\" checked><label for=\"sk-estimator-id-1\" class=\"sk-toggleable__label sk-toggleable__label-arrow\">LogisticRegression</label><div class=\"sk-toggleable__content\"><pre>LogisticRegression(max_iter=10000)</pre></div></div></div></div></div>"
      ],
      "text/plain": [
       "LogisticRegression(max_iter=10000)"
      ]
     },
     "execution_count": 39,
     "metadata": {},
     "output_type": "execute_result"
    }
   ],
   "source": [
    "# Importing the required libraries for the Logistic Regression model\n",
    "\n",
    "from sklearn.linear_model import LogisticRegression\n",
    "\n",
    "# Creating model object for logistic regression.\n",
    "\n",
    "model = LogisticRegression(fit_intercept=True, max_iter=10000)\n",
    "\n",
    "# fitting the model to the trained data.\n",
    "\n",
    "start_time = time.time()\n",
    "ab=model.fit(X_train, y_train)\n",
    "end_time = time.time()\n",
    "ab"
   ]
  },
  {
   "cell_type": "code",
   "execution_count": 40,
   "id": "e561864e",
   "metadata": {},
   "outputs": [
    {
     "data": {
      "text/plain": [
       "'Training time: 0.05863189697265625 seconds'"
      ]
     },
     "execution_count": 40,
     "metadata": {},
     "output_type": "execute_result"
    }
   ],
   "source": [
    "# Calculate the training time\n",
    "\n",
    "training_time = end_time - start_time\n",
    "train_time1=(f\"Training time: {training_time} seconds\")\n",
    "train_time1"
   ]
  },
  {
   "cell_type": "code",
   "execution_count": 41,
   "id": "055f58b7",
   "metadata": {},
   "outputs": [
    {
     "data": {
      "text/plain": [
       "'Testing time: 0.007994413375854492 seconds'"
      ]
     },
     "execution_count": 41,
     "metadata": {},
     "output_type": "execute_result"
    }
   ],
   "source": [
    "# Getting the predicted classes for testing set\n",
    "\n",
    "start_time = time.time()\n",
    "y_pred = ab.predict(X_test)\n",
    "end_time = time.time()\n",
    "\n",
    "# Calculate the testing time\n",
    "\n",
    "testing_time = end_time - start_time\n",
    "test_time1=(f\"Testing time: {testing_time} seconds\")\n",
    "test_time1"
   ]
  },
  {
   "cell_type": "code",
   "execution_count": 42,
   "id": "5d3a6294",
   "metadata": {},
   "outputs": [
    {
     "name": "stdout",
     "output_type": "stream",
     "text": [
      "[[7851  846]\n",
      " [ 134  212]]\n",
      "              precision    recall  f1-score   support\n",
      "\n",
      "           0       0.90      0.98      0.94      7985\n",
      "           1       0.61      0.20      0.30      1058\n",
      "\n",
      "    accuracy                           0.89      9043\n",
      "   macro avg       0.76      0.59      0.62      9043\n",
      "weighted avg       0.87      0.89      0.87      9043\n",
      "\n"
     ]
    },
    {
     "data": {
      "text/plain": [
       "('r2_score :', -0.0490061114116378)"
      ]
     },
     "execution_count": 42,
     "metadata": {},
     "output_type": "execute_result"
    }
   ],
   "source": [
    "# printing th confusion matrix\n",
    "\n",
    "print(confusion_matrix(y_pred, y_test))\n",
    "print(classification_report(y_test, y_pred))\n",
    "r2_score1=(\"r2_score :\",metrics.r2_score(y_test, y_pred))\n",
    "r2_score1"
   ]
  },
  {
   "cell_type": "code",
   "execution_count": 43,
   "id": "fdaf67a5",
   "metadata": {},
   "outputs": [
    {
     "data": {
      "text/plain": [
       "('Accuracy_score :', 0.8916288842198385)"
      ]
     },
     "execution_count": 43,
     "metadata": {},
     "output_type": "execute_result"
    }
   ],
   "source": [
    "accuracy_score1=(\"Accuracy_score :\",metrics.accuracy_score(y_test, y_pred))\n",
    "accuracy_score1"
   ]
  },
  {
   "cell_type": "markdown",
   "id": "9af40942",
   "metadata": {},
   "source": [
    "# Naive Bayes Model"
   ]
  },
  {
   "cell_type": "markdown",
   "id": "8d8e91fe",
   "metadata": {},
   "source": [
    "Naive Bayes is a simple classification algorithm that uses Bayes' Theorem to calculate the probability of an object belonging to a particular class.\n",
    "\n",
    "The simple form of the calculation for Bayes Theorem is as follows:\n",
    "\n",
    "P(A|B) = P(B|A) * P(A) / P(B)\n",
    "\n",
    "applications : spam filtering, recommendation systems, and text classification."
   ]
  },
  {
   "cell_type": "code",
   "execution_count": 44,
   "id": "5131ff91",
   "metadata": {},
   "outputs": [
    {
     "data": {
      "text/html": [
       "<style>#sk-container-id-2 {color: black;}#sk-container-id-2 pre{padding: 0;}#sk-container-id-2 div.sk-toggleable {background-color: white;}#sk-container-id-2 label.sk-toggleable__label {cursor: pointer;display: block;width: 100%;margin-bottom: 0;padding: 0.3em;box-sizing: border-box;text-align: center;}#sk-container-id-2 label.sk-toggleable__label-arrow:before {content: \"▸\";float: left;margin-right: 0.25em;color: #696969;}#sk-container-id-2 label.sk-toggleable__label-arrow:hover:before {color: black;}#sk-container-id-2 div.sk-estimator:hover label.sk-toggleable__label-arrow:before {color: black;}#sk-container-id-2 div.sk-toggleable__content {max-height: 0;max-width: 0;overflow: hidden;text-align: left;background-color: #f0f8ff;}#sk-container-id-2 div.sk-toggleable__content pre {margin: 0.2em;color: black;border-radius: 0.25em;background-color: #f0f8ff;}#sk-container-id-2 input.sk-toggleable__control:checked~div.sk-toggleable__content {max-height: 200px;max-width: 100%;overflow: auto;}#sk-container-id-2 input.sk-toggleable__control:checked~label.sk-toggleable__label-arrow:before {content: \"▾\";}#sk-container-id-2 div.sk-estimator input.sk-toggleable__control:checked~label.sk-toggleable__label {background-color: #d4ebff;}#sk-container-id-2 div.sk-label input.sk-toggleable__control:checked~label.sk-toggleable__label {background-color: #d4ebff;}#sk-container-id-2 input.sk-hidden--visually {border: 0;clip: rect(1px 1px 1px 1px);clip: rect(1px, 1px, 1px, 1px);height: 1px;margin: -1px;overflow: hidden;padding: 0;position: absolute;width: 1px;}#sk-container-id-2 div.sk-estimator {font-family: monospace;background-color: #f0f8ff;border: 1px dotted black;border-radius: 0.25em;box-sizing: border-box;margin-bottom: 0.5em;}#sk-container-id-2 div.sk-estimator:hover {background-color: #d4ebff;}#sk-container-id-2 div.sk-parallel-item::after {content: \"\";width: 100%;border-bottom: 1px solid gray;flex-grow: 1;}#sk-container-id-2 div.sk-label:hover label.sk-toggleable__label {background-color: #d4ebff;}#sk-container-id-2 div.sk-serial::before {content: \"\";position: absolute;border-left: 1px solid gray;box-sizing: border-box;top: 0;bottom: 0;left: 50%;z-index: 0;}#sk-container-id-2 div.sk-serial {display: flex;flex-direction: column;align-items: center;background-color: white;padding-right: 0.2em;padding-left: 0.2em;position: relative;}#sk-container-id-2 div.sk-item {position: relative;z-index: 1;}#sk-container-id-2 div.sk-parallel {display: flex;align-items: stretch;justify-content: center;background-color: white;position: relative;}#sk-container-id-2 div.sk-item::before, #sk-container-id-2 div.sk-parallel-item::before {content: \"\";position: absolute;border-left: 1px solid gray;box-sizing: border-box;top: 0;bottom: 0;left: 50%;z-index: -1;}#sk-container-id-2 div.sk-parallel-item {display: flex;flex-direction: column;z-index: 1;position: relative;background-color: white;}#sk-container-id-2 div.sk-parallel-item:first-child::after {align-self: flex-end;width: 50%;}#sk-container-id-2 div.sk-parallel-item:last-child::after {align-self: flex-start;width: 50%;}#sk-container-id-2 div.sk-parallel-item:only-child::after {width: 0;}#sk-container-id-2 div.sk-dashed-wrapped {border: 1px dashed gray;margin: 0 0.4em 0.5em 0.4em;box-sizing: border-box;padding-bottom: 0.4em;background-color: white;}#sk-container-id-2 div.sk-label label {font-family: monospace;font-weight: bold;display: inline-block;line-height: 1.2em;}#sk-container-id-2 div.sk-label-container {text-align: center;}#sk-container-id-2 div.sk-container {/* jupyter's `normalize.less` sets `[hidden] { display: none; }` but bootstrap.min.css set `[hidden] { display: none !important; }` so we also need the `!important` here to be able to override the default hidden behavior on the sphinx rendered scikit-learn.org. See: https://github.com/scikit-learn/scikit-learn/issues/21755 */display: inline-block !important;position: relative;}#sk-container-id-2 div.sk-text-repr-fallback {display: none;}</style><div id=\"sk-container-id-2\" class=\"sk-top-container\"><div class=\"sk-text-repr-fallback\"><pre>GridSearchCV(cv=10, estimator=GaussianNB(), n_jobs=-1,\n",
       "             param_grid={&#x27;var_smoothing&#x27;: array([1.00000000e+00, 8.11130831e-01, 6.57933225e-01, 5.33669923e-01,\n",
       "       4.32876128e-01, 3.51119173e-01, 2.84803587e-01, 2.31012970e-01,\n",
       "       1.87381742e-01, 1.51991108e-01, 1.23284674e-01, 1.00000000e-01,\n",
       "       8.11130831e-02, 6.57933225e-02, 5.33669923e-02, 4.32876128e-02,\n",
       "       3.51119173e-02, 2.848035...\n",
       "       1.23284674e-07, 1.00000000e-07, 8.11130831e-08, 6.57933225e-08,\n",
       "       5.33669923e-08, 4.32876128e-08, 3.51119173e-08, 2.84803587e-08,\n",
       "       2.31012970e-08, 1.87381742e-08, 1.51991108e-08, 1.23284674e-08,\n",
       "       1.00000000e-08, 8.11130831e-09, 6.57933225e-09, 5.33669923e-09,\n",
       "       4.32876128e-09, 3.51119173e-09, 2.84803587e-09, 2.31012970e-09,\n",
       "       1.87381742e-09, 1.51991108e-09, 1.23284674e-09, 1.00000000e-09])})</pre><b>In a Jupyter environment, please rerun this cell to show the HTML representation or trust the notebook. <br />On GitHub, the HTML representation is unable to render, please try loading this page with nbviewer.org.</b></div><div class=\"sk-container\" hidden><div class=\"sk-item sk-dashed-wrapped\"><div class=\"sk-label-container\"><div class=\"sk-label sk-toggleable\"><input class=\"sk-toggleable__control sk-hidden--visually\" id=\"sk-estimator-id-2\" type=\"checkbox\" ><label for=\"sk-estimator-id-2\" class=\"sk-toggleable__label sk-toggleable__label-arrow\">GridSearchCV</label><div class=\"sk-toggleable__content\"><pre>GridSearchCV(cv=10, estimator=GaussianNB(), n_jobs=-1,\n",
       "             param_grid={&#x27;var_smoothing&#x27;: array([1.00000000e+00, 8.11130831e-01, 6.57933225e-01, 5.33669923e-01,\n",
       "       4.32876128e-01, 3.51119173e-01, 2.84803587e-01, 2.31012970e-01,\n",
       "       1.87381742e-01, 1.51991108e-01, 1.23284674e-01, 1.00000000e-01,\n",
       "       8.11130831e-02, 6.57933225e-02, 5.33669923e-02, 4.32876128e-02,\n",
       "       3.51119173e-02, 2.848035...\n",
       "       1.23284674e-07, 1.00000000e-07, 8.11130831e-08, 6.57933225e-08,\n",
       "       5.33669923e-08, 4.32876128e-08, 3.51119173e-08, 2.84803587e-08,\n",
       "       2.31012970e-08, 1.87381742e-08, 1.51991108e-08, 1.23284674e-08,\n",
       "       1.00000000e-08, 8.11130831e-09, 6.57933225e-09, 5.33669923e-09,\n",
       "       4.32876128e-09, 3.51119173e-09, 2.84803587e-09, 2.31012970e-09,\n",
       "       1.87381742e-09, 1.51991108e-09, 1.23284674e-09, 1.00000000e-09])})</pre></div></div></div><div class=\"sk-parallel\"><div class=\"sk-parallel-item\"><div class=\"sk-item\"><div class=\"sk-label-container\"><div class=\"sk-label sk-toggleable\"><input class=\"sk-toggleable__control sk-hidden--visually\" id=\"sk-estimator-id-3\" type=\"checkbox\" ><label for=\"sk-estimator-id-3\" class=\"sk-toggleable__label sk-toggleable__label-arrow\">estimator: GaussianNB</label><div class=\"sk-toggleable__content\"><pre>GaussianNB()</pre></div></div></div><div class=\"sk-serial\"><div class=\"sk-item\"><div class=\"sk-estimator sk-toggleable\"><input class=\"sk-toggleable__control sk-hidden--visually\" id=\"sk-estimator-id-4\" type=\"checkbox\" ><label for=\"sk-estimator-id-4\" class=\"sk-toggleable__label sk-toggleable__label-arrow\">GaussianNB</label><div class=\"sk-toggleable__content\"><pre>GaussianNB()</pre></div></div></div></div></div></div></div></div></div></div>"
      ],
      "text/plain": [
       "GridSearchCV(cv=10, estimator=GaussianNB(), n_jobs=-1,\n",
       "             param_grid={'var_smoothing': array([1.00000000e+00, 8.11130831e-01, 6.57933225e-01, 5.33669923e-01,\n",
       "       4.32876128e-01, 3.51119173e-01, 2.84803587e-01, 2.31012970e-01,\n",
       "       1.87381742e-01, 1.51991108e-01, 1.23284674e-01, 1.00000000e-01,\n",
       "       8.11130831e-02, 6.57933225e-02, 5.33669923e-02, 4.32876128e-02,\n",
       "       3.51119173e-02, 2.848035...\n",
       "       1.23284674e-07, 1.00000000e-07, 8.11130831e-08, 6.57933225e-08,\n",
       "       5.33669923e-08, 4.32876128e-08, 3.51119173e-08, 2.84803587e-08,\n",
       "       2.31012970e-08, 1.87381742e-08, 1.51991108e-08, 1.23284674e-08,\n",
       "       1.00000000e-08, 8.11130831e-09, 6.57933225e-09, 5.33669923e-09,\n",
       "       4.32876128e-09, 3.51119173e-09, 2.84803587e-09, 2.31012970e-09,\n",
       "       1.87381742e-09, 1.51991108e-09, 1.23284674e-09, 1.00000000e-09])})"
      ]
     },
     "execution_count": 44,
     "metadata": {},
     "output_type": "execute_result"
    }
   ],
   "source": [
    "#Naive Bayes algorithm\n",
    "# importing required libraries\n",
    "\n",
    "from sklearn.naive_bayes import GaussianNB\n",
    "from sklearn.model_selection import GridSearchCV\n",
    "\n",
    "# Defining Grid Search Parameters\n",
    "\n",
    "param_grid_nb = {'var_smoothing': np.logspace(0,-9, num=100)}\n",
    "\n",
    "# Using GridSearchCV for hyperparameter tuning\n",
    "\n",
    "model = GridSearchCV(estimator=GaussianNB(), param_grid=param_grid_nb, cv=10, n_jobs=-1)\n",
    "\n",
    "# Fitting the model\n",
    "\n",
    "start_time = time.time()\n",
    "av=model.fit(X_train, y_train)\n",
    "end_time = time.time()\n",
    "av\n"
   ]
  },
  {
   "cell_type": "code",
   "execution_count": 45,
   "id": "13985138",
   "metadata": {},
   "outputs": [
    {
     "data": {
      "text/plain": [
       "'Training time: 15.781017780303955 seconds'"
      ]
     },
     "execution_count": 45,
     "metadata": {},
     "output_type": "execute_result"
    }
   ],
   "source": [
    "# Calculate the training time\n",
    "\n",
    "training_time = end_time - start_time\n",
    "train_time2=(f\"Training time: {training_time} seconds\")\n",
    "train_time2"
   ]
  },
  {
   "cell_type": "code",
   "execution_count": 46,
   "id": "6b33e5f7",
   "metadata": {},
   "outputs": [
    {
     "data": {
      "text/plain": [
       "'Testing time: 0.004204511642456055 seconds'"
      ]
     },
     "execution_count": 46,
     "metadata": {},
     "output_type": "execute_result"
    }
   ],
   "source": [
    "# Getting the predicted classes for testing set\n",
    "\n",
    "start_time = time.time()\n",
    "y_pred = av.predict(X_test)\n",
    "end_time = time.time()\n",
    "\n",
    "# Calculate the testing time\n",
    "\n",
    "testing_time = end_time - start_time\n",
    "test_time2=(f\"Testing time: {testing_time} seconds\")\n",
    "test_time2"
   ]
  },
  {
   "cell_type": "code",
   "execution_count": 47,
   "id": "d40b0f8f",
   "metadata": {},
   "outputs": [
    {
     "name": "stdout",
     "output_type": "stream",
     "text": [
      "[[7871  919]\n",
      " [ 114  139]]\n",
      "              precision    recall  f1-score   support\n",
      "\n",
      "           0       0.90      0.99      0.94      7985\n",
      "           1       0.55      0.13      0.21      1058\n",
      "\n",
      "    accuracy                           0.89      9043\n",
      "   macro avg       0.72      0.56      0.58      9043\n",
      "weighted avg       0.85      0.89      0.85      9043\n",
      "\n"
     ]
    },
    {
     "data": {
      "text/plain": [
       "('r2_score:', -0.10573807457981821)"
      ]
     },
     "execution_count": 47,
     "metadata": {},
     "output_type": "execute_result"
    }
   ],
   "source": [
    "# printng the confusion matrix\n",
    "\n",
    "print(confusion_matrix(y_pred, y_test))\n",
    "print(classification_report(y_test, y_pred))\n",
    "r2_score2=(\"r2_score:\",metrics.r2_score(y_test, y_pred))\n",
    "r2_score2"
   ]
  },
  {
   "cell_type": "code",
   "execution_count": 48,
   "id": "2c3d86c5",
   "metadata": {},
   "outputs": [
    {
     "data": {
      "text/plain": [
       "('Accuracy_score :', 0.8857679973460135)"
      ]
     },
     "execution_count": 48,
     "metadata": {},
     "output_type": "execute_result"
    }
   ],
   "source": [
    "accuracy_score2=(\"Accuracy_score :\",metrics.accuracy_score(y_test, y_pred))\n",
    "accuracy_score2"
   ]
  },
  {
   "cell_type": "markdown",
   "id": "a401d54c",
   "metadata": {},
   "source": [
    "# support vector classification model"
   ]
  },
  {
   "cell_type": "markdown",
   "id": "9dacc9f4",
   "metadata": {},
   "source": [
    "Support Vector Classification (SVC) is a supervised machine learning algorithm that finds a hyperplane to separate data points into two classes with a maximum margin."
   ]
  },
  {
   "cell_type": "code",
   "execution_count": 49,
   "id": "2b4704bd",
   "metadata": {},
   "outputs": [],
   "source": [
    "#SVC Classifier algorithm\n",
    "# importing the required libraries\n",
    "\n",
    "from sklearn.svm import SVC\n",
    "\n",
    "# Create the support vector classification model and Fit the model to the training data\n",
    "\n",
    "start_time = time.time()\n",
    "model = SVC(kernel='poly').fit(X_train, y_train)\n",
    "end_time = time.time()\n"
   ]
  },
  {
   "cell_type": "code",
   "execution_count": 50,
   "id": "aa37e3b3",
   "metadata": {},
   "outputs": [
    {
     "data": {
      "text/plain": [
       "'Training time: 23.868849277496338 seconds'"
      ]
     },
     "execution_count": 50,
     "metadata": {},
     "output_type": "execute_result"
    }
   ],
   "source": [
    "# Calculate the training time\n",
    "\n",
    "training_time = end_time - start_time\n",
    "train_time3=(f\"Training time: {training_time} seconds\")\n",
    "train_time3"
   ]
  },
  {
   "cell_type": "code",
   "execution_count": 51,
   "id": "4f64abda",
   "metadata": {},
   "outputs": [
    {
     "data": {
      "text/plain": [
       "'Testing time: 1.8187181949615479 seconds'"
      ]
     },
     "execution_count": 51,
     "metadata": {},
     "output_type": "execute_result"
    }
   ],
   "source": [
    "# Getting the predicted classes for testing set\n",
    "\n",
    "start_time = time.time()\n",
    "y_pred = model.predict(X_test)\n",
    "end_time = time.time()\n",
    "\n",
    "# Calculate the testing time\n",
    "\n",
    "testing_time = end_time - start_time\n",
    "test_time3=(f\"Testing time: {testing_time} seconds\")\n",
    "test_time3"
   ]
  },
  {
   "cell_type": "code",
   "execution_count": 52,
   "id": "23d02432",
   "metadata": {},
   "outputs": [
    {
     "name": "stdout",
     "output_type": "stream",
     "text": [
      "[[7888  885]\n",
      " [  97  173]]\n",
      "              precision    recall  f1-score   support\n",
      "\n",
      "           0       0.90      0.99      0.94      7985\n",
      "           1       0.64      0.16      0.26      1058\n",
      "\n",
      "    accuracy                           0.89      9043\n",
      "   macro avg       0.77      0.58      0.60      9043\n",
      "weighted avg       0.87      0.89      0.86      9043\n",
      "\n"
     ]
    },
    {
     "data": {
      "text/plain": [
       "('r2_score:', -0.0511469402104372)"
      ]
     },
     "execution_count": 52,
     "metadata": {},
     "output_type": "execute_result"
    }
   ],
   "source": [
    "# printing the confusion matrix\n",
    "\n",
    "print(confusion_matrix(y_pred, y_test))\n",
    "print(classification_report(y_test,y_pred))\n",
    "r2_score3=(\"r2_score:\",metrics.r2_score(y_test,y_pred))\n",
    "r2_score3"
   ]
  },
  {
   "cell_type": "code",
   "execution_count": 53,
   "id": "4147d18f",
   "metadata": {},
   "outputs": [
    {
     "data": {
      "text/plain": [
       "('Accuracy_score :', 0.8914077186774301)"
      ]
     },
     "execution_count": 53,
     "metadata": {},
     "output_type": "execute_result"
    }
   ],
   "source": [
    "# metric accuracy_score\n",
    "accuracy_score3=(\"Accuracy_score :\",metrics.accuracy_score(y_test, y_pred))\n",
    "accuracy_score3"
   ]
  },
  {
   "cell_type": "markdown",
   "id": "1e1fa96c",
   "metadata": {},
   "source": [
    "# Decision Tree Classification Model"
   ]
  },
  {
   "cell_type": "markdown",
   "id": "a96948de",
   "metadata": {},
   "source": [
    "Decision trees are a type of machine learning model that can be used for both classification and regression problems. They work by splitting the data into smaller and smaller subsets based on the values of the features, until each subset contains only data points of the same class or with similar values for the target variable."
   ]
  },
  {
   "cell_type": "code",
   "execution_count": 54,
   "id": "9ea90534",
   "metadata": {},
   "outputs": [],
   "source": [
    "# decision tree classifier\n",
    "# Importing required libraries\n",
    "\n",
    "from sklearn.tree import DecisionTreeClassifier\n",
    "from sklearn.model_selection import GridSearchCV\n",
    "\n",
    "# Creating model object for Decision Tree Classifier and Fitting the model.\n",
    "\n",
    "start_time = time.time()\n",
    "model = DecisionTreeClassifier().fit(X_train, y_train)\n",
    "start_time = time.time()"
   ]
  },
  {
   "cell_type": "code",
   "execution_count": 55,
   "id": "bfc3cf0e",
   "metadata": {},
   "outputs": [
    {
     "data": {
      "text/plain": [
       "'Training time: -0.4202852249145508 seconds'"
      ]
     },
     "execution_count": 55,
     "metadata": {},
     "output_type": "execute_result"
    }
   ],
   "source": [
    "# Calculate the training time\n",
    "\n",
    "training_time = end_time - start_time\n",
    "train_time4=(f\"Training time: {training_time} seconds\")\n",
    "train_time4"
   ]
  },
  {
   "cell_type": "code",
   "execution_count": 56,
   "id": "79b6f031",
   "metadata": {},
   "outputs": [
    {
     "data": {
      "text/plain": [
       "'Testing time: 0.0 seconds'"
      ]
     },
     "execution_count": 56,
     "metadata": {},
     "output_type": "execute_result"
    }
   ],
   "source": [
    "# Getting the predicted classes for testing set\n",
    "\n",
    "start_time = time.time()\n",
    "y_pred = model.predict(X_test)\n",
    "end_time = time.time()\n",
    "\n",
    "# Calculate the testing time\n",
    "\n",
    "testing_time = end_time - start_time\n",
    "test_time4=(f\"Testing time: {testing_time} seconds\")\n",
    "test_time4"
   ]
  },
  {
   "cell_type": "code",
   "execution_count": 57,
   "id": "96c8c716",
   "metadata": {},
   "outputs": [
    {
     "name": "stdout",
     "output_type": "stream",
     "text": [
      "[[7390  567]\n",
      " [ 595  491]]\n",
      "              precision    recall  f1-score   support\n",
      "\n",
      "           0       0.93      0.93      0.93      7985\n",
      "           1       0.45      0.46      0.46      1058\n",
      "\n",
      "    accuracy                           0.87      9043\n",
      "   macro avg       0.69      0.69      0.69      9043\n",
      "weighted avg       0.87      0.87      0.87      9043\n",
      "\n"
     ]
    },
    {
     "data": {
      "text/plain": [
       "('r2_score : ', -0.24382153210237067)"
      ]
     },
     "execution_count": 57,
     "metadata": {},
     "output_type": "execute_result"
    }
   ],
   "source": [
    "# printing the confusion matrix\n",
    "\n",
    "print(confusion_matrix(y_pred, y_test))\n",
    "print(classification_report(y_test, y_pred))\n",
    "r2_score4=(\"r2_score : \",metrics.r2_score(y_test, y_pred))\n",
    "r2_score4"
   ]
  },
  {
   "cell_type": "code",
   "execution_count": 58,
   "id": "c88c4d3c",
   "metadata": {},
   "outputs": [
    {
     "data": {
      "text/plain": [
       "('Accuracy_score :', 0.8715028198606657)"
      ]
     },
     "execution_count": 58,
     "metadata": {},
     "output_type": "execute_result"
    }
   ],
   "source": [
    "accuracy_score4=(\"Accuracy_score :\",metrics.accuracy_score(y_test, y_pred))\n",
    "accuracy_score4"
   ]
  },
  {
   "cell_type": "markdown",
   "id": "53816218",
   "metadata": {},
   "source": [
    "# Random Forest Classification Model"
   ]
  },
  {
   "cell_type": "code",
   "execution_count": 59,
   "id": "490b2898",
   "metadata": {},
   "outputs": [],
   "source": [
    "# Random Forest Classifier\n",
    "\n",
    "import time  # to check the excusion speeds of a model\n",
    "from sklearn.ensemble import RandomForestClassifier\n",
    "model = RandomForestClassifier()\n",
    "\n",
    "# fitting the model\n",
    "\n",
    "start_time = time.time()\n",
    "model.fit(X_train, y_train)\n",
    "end_time = time.time()"
   ]
  },
  {
   "cell_type": "code",
   "execution_count": 60,
   "id": "05331674",
   "metadata": {},
   "outputs": [
    {
     "data": {
      "text/plain": [
       "'Training time: 7.312269687652588 seconds'"
      ]
     },
     "execution_count": 60,
     "metadata": {},
     "output_type": "execute_result"
    }
   ],
   "source": [
    "# Calculate the training time\n",
    "\n",
    "training_time = end_time - start_time\n",
    "train_time5=(f\"Training time: {training_time} seconds\")\n",
    "train_time5"
   ]
  },
  {
   "cell_type": "code",
   "execution_count": 61,
   "id": "2166d935",
   "metadata": {},
   "outputs": [
    {
     "data": {
      "text/plain": [
       "'Testing time: 0.1939537525177002 seconds'"
      ]
     },
     "execution_count": 61,
     "metadata": {},
     "output_type": "execute_result"
    }
   ],
   "source": [
    "# Getting the predicted classes for testing set\n",
    "\n",
    "start_time = time.time()\n",
    "y_pred = model.predict(X_test)\n",
    "end_time = time.time()\n",
    "\n",
    "# Calculate the testing time\n",
    "\n",
    "testing_time = end_time - start_time\n",
    "test_time5=(f\"Testing time: {testing_time} seconds\")\n",
    "test_time5"
   ]
  },
  {
   "cell_type": "code",
   "execution_count": 62,
   "id": "9535f512",
   "metadata": {},
   "outputs": [
    {
     "name": "stdout",
     "output_type": "stream",
     "text": [
      "[[7744  614]\n",
      " [ 241  444]]\n",
      "              precision    recall  f1-score   support\n",
      "\n",
      "           0       0.93      0.97      0.95      7985\n",
      "           1       0.65      0.42      0.51      1058\n",
      "\n",
      "    accuracy                           0.91      9043\n",
      "   macro avg       0.79      0.69      0.73      9043\n",
      "weighted avg       0.89      0.91      0.90      9043\n",
      "\n"
     ]
    },
    {
     "data": {
      "text/plain": [
       "('r2_score ', 0.08479568851331598)"
      ]
     },
     "execution_count": 62,
     "metadata": {},
     "output_type": "execute_result"
    }
   ],
   "source": [
    "# Importing neccesary libraries\n",
    "\n",
    "import sklearn.metrics as metrics\n",
    "from sklearn.metrics import confusion_matrix, classification_report, r2_score\n",
    "\n",
    "# printing the confusion matrix\n",
    "\n",
    "print(confusion_matrix(y_pred, y_test))\n",
    "print(classification_report(y_test, y_pred))\n",
    "r2_score5=(\"r2_score \",r2_score(y_test, y_pred))\n",
    "r2_score5"
   ]
  },
  {
   "cell_type": "code",
   "execution_count": 63,
   "id": "f4e5613b",
   "metadata": {},
   "outputs": [
    {
     "data": {
      "text/plain": [
       "('Accuracy_score :', 0.9054517306203693)"
      ]
     },
     "execution_count": 63,
     "metadata": {},
     "output_type": "execute_result"
    }
   ],
   "source": [
    "# accuracy metric score\n",
    "\n",
    "accuracy_score5=(\"Accuracy_score :\",metrics.accuracy_score(y_test, y_pred))\n",
    "accuracy_score5"
   ]
  },
  {
   "cell_type": "raw",
   "id": "336c3c7d",
   "metadata": {},
   "source": []
  },
  {
   "cell_type": "markdown",
   "id": "f83c023d",
   "metadata": {},
   "source": [
    "# Model Validation:"
   ]
  },
  {
   "cell_type": "raw",
   "id": "49b7898e",
   "metadata": {},
   "source": [
    "Model Validation: Mention the metrics used, especially the R2 score interpretation"
   ]
  },
  {
   "cell_type": "markdown",
   "id": "fe8e2d74",
   "metadata": {},
   "source": [
    "   The choice of metric depends on the type of problem you are solving (regression or classification) and the specific goals and requirements of our project. It's often advisable to use a combination of metrics to gain a more comprehensive understanding of our model's performance.\n",
    "   Model validation is a crucial step in assessing the performance and reliability of machine learning models. Several metrics are commonly used for model validation for this given data are \n",
    "       R-squared (R2) metric score\n",
    "       accuracy_score\n",
    "       Accuracy, Precision, Recall, F1-Score\n",
    "are used for validation of a model for this given data\n",
    "\n",
    "R-squared (R2) Score:\n",
    "\n",
    "The R2 score, also known as the coefficient of determination, is a metric used for regression models. It measures the proportion of the variance in the dependent variable that is explained by the independent variables in the model. The R2 score ranges from 0 to 1, with higher values indicating a better fit of the model to the data.\n",
    "\n",
    "\n",
    "Interpretation of R2 score metrics:\n",
    "\n",
    "\n",
    " if R2 = 0: \n",
    "   The model explains none of the variance in the target variable, and it performs no better than simply predicting the mean of the target variable.\n",
    "if 0 < R2 < 1: \n",
    "   The model explains a portion of the variance, and a higher R2 score indicates a better fit. For example, an R2 of 0.8 means that 80% of the variance in the target variable is explained by the model.\n",
    "R2 = 1: \n",
    "      The model explains all of the variance in the target variable, and it is a perfect fit to the data.\n",
    "\n",
    "\n",
    "accuracy_score metrics : \n",
    "\n",
    "\n",
    "The accuracy_score metric is a measure of how well a machine learning model is performing on a holdout dataset. It is calculated by dividing the number of correct predictions by the total number of predictions.\n",
    "\n",
    "For example, if a model makes 100 predictions and 80 of them are correct, then the accuracy_score would be 0.80."
   ]
  },
  {
   "cell_type": "markdown",
   "id": "a77f6a9e",
   "metadata": {},
   "source": [
    "# Model Comparison:"
   ]
  },
  {
   "cell_type": "raw",
   "id": "8459442e",
   "metadata": {},
   "source": [
    "Model Comparison: How would you compare R2 scores and execution speeds to choose the best model?"
   ]
  },
  {
   "cell_type": "code",
   "execution_count": 64,
   "id": "c032620d",
   "metadata": {},
   "outputs": [],
   "source": [
    "# Create an empty DataFrame\n",
    "scores_df = pd.DataFrame()\n",
    "Model=['Logistic Regression', 'Naive Bayes', 'SVC Classifier', 'Decision Tree Classifier', 'Random Forest Classifier']\n",
    "# Add scores to the DataFrame\n",
    "scores_df['Model'] = ['Logistic Regression', 'Naive Bayes', 'SVC Classifier', 'Decision Tree Classifier', 'Random Forest Classifier']\n",
    "scores_df['r2_score'] = [r2_score1,r2_score2,r2_score3,r2_score4,r2_score5]\n",
    "scores_df['accuracy_score'] = [accuracy_score1,accuracy_score2,accuracy_score3,accuracy_score4,accuracy_score5]\n",
    "scores_df['Training time'] = [train_time1,train_time2,train_time3,train_time4,train_time5]\n",
    "scores_df['Testing time'] = [test_time1,test_time2,test_time3,test_time4,test_time5]"
   ]
  },
  {
   "cell_type": "code",
   "execution_count": 65,
   "id": "6aa4e114",
   "metadata": {},
   "outputs": [
    {
     "data": {
      "text/html": [
       "<div>\n",
       "<style scoped>\n",
       "    .dataframe tbody tr th:only-of-type {\n",
       "        vertical-align: middle;\n",
       "    }\n",
       "\n",
       "    .dataframe tbody tr th {\n",
       "        vertical-align: top;\n",
       "    }\n",
       "\n",
       "    .dataframe thead th {\n",
       "        text-align: right;\n",
       "    }\n",
       "</style>\n",
       "<table border=\"1\" class=\"dataframe\">\n",
       "  <thead>\n",
       "    <tr style=\"text-align: right;\">\n",
       "      <th></th>\n",
       "      <th>Model</th>\n",
       "      <th>r2_score</th>\n",
       "      <th>accuracy_score</th>\n",
       "      <th>Training time</th>\n",
       "      <th>Testing time</th>\n",
       "    </tr>\n",
       "  </thead>\n",
       "  <tbody>\n",
       "    <tr>\n",
       "      <th>0</th>\n",
       "      <td>Logistic Regression</td>\n",
       "      <td>(r2_score :, -0.0490061114116378)</td>\n",
       "      <td>(Accuracy_score :, 0.8916288842198385)</td>\n",
       "      <td>Training time: 0.05863189697265625 seconds</td>\n",
       "      <td>Testing time: 0.007994413375854492 seconds</td>\n",
       "    </tr>\n",
       "    <tr>\n",
       "      <th>1</th>\n",
       "      <td>Naive Bayes</td>\n",
       "      <td>(r2_score:, -0.10573807457981821)</td>\n",
       "      <td>(Accuracy_score :, 0.8857679973460135)</td>\n",
       "      <td>Training time: 15.781017780303955 seconds</td>\n",
       "      <td>Testing time: 0.004204511642456055 seconds</td>\n",
       "    </tr>\n",
       "    <tr>\n",
       "      <th>2</th>\n",
       "      <td>SVC Classifier</td>\n",
       "      <td>(r2_score:, -0.0511469402104372)</td>\n",
       "      <td>(Accuracy_score :, 0.8914077186774301)</td>\n",
       "      <td>Training time: 23.868849277496338 seconds</td>\n",
       "      <td>Testing time: 1.8187181949615479 seconds</td>\n",
       "    </tr>\n",
       "    <tr>\n",
       "      <th>3</th>\n",
       "      <td>Decision Tree Classifier</td>\n",
       "      <td>(r2_score : , -0.24382153210237067)</td>\n",
       "      <td>(Accuracy_score :, 0.8715028198606657)</td>\n",
       "      <td>Training time: -0.4202852249145508 seconds</td>\n",
       "      <td>Testing time: 0.0 seconds</td>\n",
       "    </tr>\n",
       "    <tr>\n",
       "      <th>4</th>\n",
       "      <td>Random Forest Classifier</td>\n",
       "      <td>(r2_score , 0.08479568851331598)</td>\n",
       "      <td>(Accuracy_score :, 0.9054517306203693)</td>\n",
       "      <td>Training time: 7.312269687652588 seconds</td>\n",
       "      <td>Testing time: 0.1939537525177002 seconds</td>\n",
       "    </tr>\n",
       "  </tbody>\n",
       "</table>\n",
       "</div>"
      ],
      "text/plain": [
       "                      Model                             r2_score  \\\n",
       "0       Logistic Regression    (r2_score :, -0.0490061114116378)   \n",
       "1               Naive Bayes    (r2_score:, -0.10573807457981821)   \n",
       "2            SVC Classifier     (r2_score:, -0.0511469402104372)   \n",
       "3  Decision Tree Classifier  (r2_score : , -0.24382153210237067)   \n",
       "4  Random Forest Classifier     (r2_score , 0.08479568851331598)   \n",
       "\n",
       "                           accuracy_score  \\\n",
       "0  (Accuracy_score :, 0.8916288842198385)   \n",
       "1  (Accuracy_score :, 0.8857679973460135)   \n",
       "2  (Accuracy_score :, 0.8914077186774301)   \n",
       "3  (Accuracy_score :, 0.8715028198606657)   \n",
       "4  (Accuracy_score :, 0.9054517306203693)   \n",
       "\n",
       "                                Training time  \\\n",
       "0  Training time: 0.05863189697265625 seconds   \n",
       "1   Training time: 15.781017780303955 seconds   \n",
       "2   Training time: 23.868849277496338 seconds   \n",
       "3  Training time: -0.4202852249145508 seconds   \n",
       "4    Training time: 7.312269687652588 seconds   \n",
       "\n",
       "                                 Testing time  \n",
       "0  Testing time: 0.007994413375854492 seconds  \n",
       "1  Testing time: 0.004204511642456055 seconds  \n",
       "2    Testing time: 1.8187181949615479 seconds  \n",
       "3                   Testing time: 0.0 seconds  \n",
       "4    Testing time: 0.1939537525177002 seconds  "
      ]
     },
     "execution_count": 65,
     "metadata": {},
     "output_type": "execute_result"
    }
   ],
   "source": [
    "# Display the DataFrame\n",
    "scores_df"
   ]
  },
  {
   "cell_type": "code",
   "execution_count": 66,
   "id": "46f0d5c9",
   "metadata": {},
   "outputs": [
    {
     "data": {
      "text/plain": [
       "0.9054517306203693"
      ]
     },
     "execution_count": 66,
     "metadata": {},
     "output_type": "execute_result"
    }
   ],
   "source": [
    "r2_score(y_test,y_pred)\n",
    "accuracy_score(y_test,y_pred)"
   ]
  },
  {
   "cell_type": "markdown",
   "id": "1e8f2c11",
   "metadata": {},
   "source": [
    "Observation : \n",
    "\n",
    "  By comparing all the given machine learning models we would like to choose \"Random Forest Classifier Model\" for the reason that it possess high Accuracy_score about 0.90 means 90% of predictions are correct, and r2_score is between 0 to 1 for this model and this score is higher for this model when compare to other models even through the excusion speeds are high when compare with other models including their scores. Execution speed refers to how quickly the model can make predictions or perform training."
   ]
  },
  {
   "cell_type": "raw",
   "id": "bcc31e9d",
   "metadata": {},
   "source": []
  },
  {
   "cell_type": "markdown",
   "id": "3ffd2b4c",
   "metadata": {},
   "source": [
    "# Conclusion :"
   ]
  },
  {
   "cell_type": "markdown",
   "id": "8e19ff51",
   "metadata": {},
   "source": [
    "By analyzing and process the dataframe i got the following terms for effective banking campaign :\n",
    "1. Month of May has the maximum subscriptions.\n",
    "2. Blue-collar, management and technician showed maximum interest in subscription.\n",
    "3. married and single, Divorced people have more likely to take subscriptions.\n",
    "4. People with secondary education followed by tertiary education were more likely to take subscriptions.\n",
    "5. Cellular communication is seen as more effective in comparison to other communication types to take subscriptions.\n",
    "6. It is highly inbalanced data and the no to yes ratio to take subscriptions from the bank is nearly 7.5:1, means for every 7      to 8 persons only one person was ready to take the subcription from the bank.\n",
    "7. I saw that majority of subscription were taken on 30th date of every month.\n",
    "8. The balance holders who have the balalance between 0 to 20k are more likely to take subscriptions from the bank.\n",
    "9. Only 20 to 60 aged people are more likely to take subscriptions from the bank. \n",
    "              By considered these important key ways and if we choose Random Forest Model used for to perform this daataset we got an effective banking campaign with high success rate."
   ]
  },
  {
   "cell_type": "raw",
   "id": "0ffab938",
   "metadata": {},
   "source": []
  }
 ],
 "metadata": {
  "kernelspec": {
   "display_name": "Python 3 (ipykernel)",
   "language": "python",
   "name": "python3"
  },
  "language_info": {
   "codemirror_mode": {
    "name": "ipython",
    "version": 3
   },
   "file_extension": ".py",
   "mimetype": "text/x-python",
   "name": "python",
   "nbconvert_exporter": "python",
   "pygments_lexer": "ipython3",
   "version": "3.10.9"
  }
 },
 "nbformat": 4,
 "nbformat_minor": 5
}
